{
 "cells": [
  {
   "cell_type": "code",
   "execution_count": null,
   "id": "3f03fb15-ad60-4c43-a209-5da4dc82abc4",
   "metadata": {},
   "outputs": [],
   "source": [
    "import pandas as pd\n",
    "import seaborn as sns \n",
    "import matplotlib.pyplot as plt\n",
    "import numpy as np"
   ]
  },
  {
   "cell_type": "code",
   "execution_count": null,
   "id": "b357456d-6476-4766-bfb6-b633b43635a6",
   "metadata": {},
   "outputs": [],
   "source": [
    "shots = pd.read_csv('../data/shots_2007-2023.csv')"
   ]
  },
  {
   "cell_type": "code",
   "execution_count": null,
   "id": "ad2912ff-bad5-40a3-9d28-6a4cd7860db2",
   "metadata": {},
   "outputs": [],
   "source": [
    "shots.event.value_counts()"
   ]
  },
  {
   "cell_type": "code",
   "execution_count": null,
   "id": "d2cef06e-21de-4ae0-a55f-aef98b10d9c8",
   "metadata": {},
   "outputs": [],
   "source": [
    "shots.head()"
   ]
  },
  {
   "cell_type": "code",
   "execution_count": null,
   "id": "4a21676c-bcb6-4a23-aa83-7f8190b1227d",
   "metadata": {},
   "outputs": [],
   "source": [
    "just_shots = shots.loc[shots['event'] == 'SHOT'].reset_index(drop = True)"
   ]
  },
  {
   "cell_type": "code",
   "execution_count": null,
   "id": "f8a2cf0b-b78a-4bd7-856b-b49e7392d015",
   "metadata": {},
   "outputs": [],
   "source": [
    "reg_szn_shots = just_shots.loc[just_shots['isPlayoffGame'] == 0]"
   ]
  },
  {
   "cell_type": "code",
   "execution_count": null,
   "id": "f98d2f93-07e9-464d-be46-4dd1f1a430b3",
   "metadata": {},
   "outputs": [],
   "source": [
    "reg_szn_shots.head()"
   ]
  },
  {
   "cell_type": "code",
   "execution_count": null,
   "id": "5eed275e-4c37-4fa4-b9bb-1ba61ba6ff7d",
   "metadata": {},
   "outputs": [],
   "source": [
    "shots.shape"
   ]
  },
  {
   "cell_type": "code",
   "execution_count": null,
   "id": "fe128b93-953c-40cd-928f-666183d4d0fa",
   "metadata": {},
   "outputs": [],
   "source": [
    "shots['teamCode'] = shots['teamCode'].str.replace('S.J', 'SJS')"
   ]
  },
  {
   "cell_type": "code",
   "execution_count": null,
   "id": "6cf1606f-1247-4835-a962-f4535de538e1",
   "metadata": {},
   "outputs": [],
   "source": [
    "shots['teamCode'] = shots['teamCode'].str.replace('T.B', 'TBL')"
   ]
  },
  {
   "cell_type": "code",
   "execution_count": null,
   "id": "945e3820-3f3a-4b18-94b6-291268eee0de",
   "metadata": {},
   "outputs": [],
   "source": [
    "shots['teamCode'] = shots['teamCode'].str.replace('N.J', 'NJD')"
   ]
  },
  {
   "cell_type": "code",
   "execution_count": null,
   "id": "97009d2e-199e-4770-b293-e4f49f51e22a",
   "metadata": {},
   "outputs": [],
   "source": [
    "shots['teamCode'] = shots['teamCode'].str.replace('L.A', 'LAK')"
   ]
  },
  {
   "cell_type": "markdown",
   "id": "b4e01655-1c94-4c71-96bb-4f2a16a8e590",
   "metadata": {},
   "source": [
    "How many goals are there per season/playoffs?"
   ]
  },
  {
   "cell_type": "code",
   "execution_count": null,
   "id": "ecdf32b2-53a5-42eb-bf89-6d4c6a3bfbfe",
   "metadata": {},
   "outputs": [],
   "source": [
    "goals = shots.loc[shots['event'] == 'GOAL'].reset_index(drop = True)"
   ]
  },
  {
   "cell_type": "code",
   "execution_count": null,
   "id": "c7655630-6d9d-49c1-a2bc-60857b6b944f",
   "metadata": {},
   "outputs": [],
   "source": [
    "goals.head()"
   ]
  },
  {
   "cell_type": "code",
   "execution_count": null,
   "id": "3f1f4551-eb73-4f51-be1e-0a332e00a6d5",
   "metadata": {},
   "outputs": [],
   "source": [
    "reg_szn_goals = goals.loc[goals['isPlayoffGame'] == 0]"
   ]
  },
  {
   "cell_type": "code",
   "execution_count": null,
   "id": "b1ebfe0b-a8fe-420a-b2e2-7645d0f87ae0",
   "metadata": {},
   "outputs": [],
   "source": [
    "goals_per_season = reg_szn_goals.groupby(['season'])['event'].value_counts().reset_index()"
   ]
  },
  {
   "cell_type": "code",
   "execution_count": null,
   "id": "7f89e3cf-8fa2-4c1c-ab4d-e9dd4d946fe5",
   "metadata": {
    "scrolled": true
   },
   "outputs": [],
   "source": [
    "goals_per_season"
   ]
  },
  {
   "cell_type": "code",
   "execution_count": null,
   "id": "85a4fced-5f67-4674-8235-ab6e70d68f07",
   "metadata": {},
   "outputs": [],
   "source": [
    "goals_per_season.plot(x = 'season', y = 'count', kind = 'line')\n",
    "plt.xlabel(\"Season\", fontsize=10)\n",
    "plt.ylabel(\"Goals Scored\", fontsize=10)\n",
    "plt.title(\"Goals Scored Per NHL Regular Season 2007-2023\")\n",
    "plt.legend(\"\", frameon = False)\n",
    "#plt.savefig('Goals Scored Per Regular Season.png', bbox_inches='tight')\n",
    "plt.show();"
   ]
  },
  {
   "cell_type": "markdown",
   "id": "5cc8415d-bda2-4d52-8e41-57639e6d010d",
   "metadata": {},
   "source": [
    "NOTES: \n",
    "\n",
    "    1) 2012 only 48 games were played total due to a Lockout\n",
    "    \n",
    "    2) 2017 NHL Expansion adding VGK\n",
    "    \n",
    "    3) 2019 due to Covid-19 teams played between 68-71 games (Playoffs included Qualifying Round for teams)\n",
    "    "
   ]
  },
  {
   "cell_type": "code",
   "execution_count": null,
   "id": "24e3cba8-db24-45cc-8a14-6bb0c24a5b23",
   "metadata": {},
   "outputs": [],
   "source": [
    "po_goals = goals.loc[goals['isPlayoffGame'] == 1]"
   ]
  },
  {
   "cell_type": "code",
   "execution_count": null,
   "id": "5eb38cb9-b885-471d-bf6f-b3b79cf5d2c5",
   "metadata": {},
   "outputs": [],
   "source": [
    "po_goals.loc[po_goals['season'] == 2023]"
   ]
  },
  {
   "cell_type": "code",
   "execution_count": null,
   "id": "ea2ea3b7-cc42-404b-8732-376143b75448",
   "metadata": {},
   "outputs": [],
   "source": [
    "po_goals_zone = po_goals.groupby(['season', 'homeTeamCode', 'awayTeamCode'])['event'].value_counts().reset_index()"
   ]
  },
  {
   "cell_type": "code",
   "execution_count": null,
   "id": "58deca92-0752-4782-a992-16c1dd58fc8e",
   "metadata": {},
   "outputs": [],
   "source": [
    "po_goals_zone.loc[po_goals_zone['homeTeamCode'] == 'NSH'].sort_values(by = 'count', ascending = False)"
   ]
  },
  {
   "cell_type": "code",
   "execution_count": null,
   "id": "c145bcd1-0315-40aa-b0cb-d03ee4772130",
   "metadata": {},
   "outputs": [],
   "source": [
    "po_goals_zone.loc[po_goals_zone['awayTeamCode'] == 'NSH'].sort_values(by = 'count', ascending = False)"
   ]
  },
  {
   "cell_type": "code",
   "execution_count": null,
   "id": "bc928443-8aaa-4ce9-a09b-2d2614a381f4",
   "metadata": {},
   "outputs": [],
   "source": []
  },
  {
   "cell_type": "code",
   "execution_count": null,
   "id": "bdfeb42c-900d-4c48-92f4-32f07b5d4075",
   "metadata": {},
   "outputs": [],
   "source": [
    "goals_per_po = po_goals.groupby(['season'])['event'].value_counts().reset_index()"
   ]
  },
  {
   "cell_type": "code",
   "execution_count": null,
   "id": "e4da0e42-a929-4d3a-8273-f1b65b6560c6",
   "metadata": {
    "scrolled": true
   },
   "outputs": [],
   "source": [
    "goals_per_po"
   ]
  },
  {
   "cell_type": "code",
   "execution_count": null,
   "id": "82036752-a516-409a-97fd-f7d828727d5d",
   "metadata": {},
   "outputs": [],
   "source": [
    "goals_per_po.plot(x = 'season', y = 'count', kind = 'line')\n",
    "plt.xlabel(\"Season\", fontsize=10)\n",
    "plt.ylabel(\"Goals Scored\", fontsize=10)\n",
    "plt.title(\"Goals Scored Per Stanley Cup Playoff 2007-2023\")\n",
    "plt.legend(\"\", frameon = False)\n",
    "#plt.savefig('Goals Scored Per SCP.png', bbox_inches='tight')\n",
    "plt.show();"
   ]
  },
  {
   "cell_type": "code",
   "execution_count": null,
   "id": "73efaf64-1f5f-4f4d-b43c-82ea58137a9a",
   "metadata": {},
   "outputs": [],
   "source": [
    "most_po_goals = po_goals.loc[po_goals['season'] == 2019]"
   ]
  },
  {
   "cell_type": "code",
   "execution_count": null,
   "id": "3f16fc56-80b2-49ef-b769-33da049e4bc2",
   "metadata": {
    "scrolled": true
   },
   "outputs": [],
   "source": [
    "most_po_goals.groupby(['teamCode'])['event'].value_counts().reset_index()"
   ]
  },
  {
   "cell_type": "code",
   "execution_count": null,
   "id": "e258e692-f97d-4fa8-92d5-81dd28081a2a",
   "metadata": {},
   "outputs": [],
   "source": [
    "po_goal_inv = most_po_goals[['homeTeamCode', 'awayTeamCode', 'teamCode', 'event', 'isPlayoffGame']]"
   ]
  },
  {
   "cell_type": "code",
   "execution_count": null,
   "id": "da0d753e-6fea-41e6-9b1e-da0b1fdb8908",
   "metadata": {
    "scrolled": true
   },
   "outputs": [],
   "source": [
    "po_goal_inv.loc[po_goal_inv['teamCode'] == 'ARI']"
   ]
  },
  {
   "cell_type": "code",
   "execution_count": null,
   "id": "fd5990e4-360d-421e-b25b-a30de6818c22",
   "metadata": {},
   "outputs": [],
   "source": []
  },
  {
   "cell_type": "markdown",
   "id": "675710c0-d059-422f-b632-2867c80293e7",
   "metadata": {},
   "source": [
    "How many goals (per season) has each team scored?"
   ]
  },
  {
   "cell_type": "code",
   "execution_count": null,
   "id": "e14d0ca2-0c4a-4cd6-a140-d6e2a22d332d",
   "metadata": {},
   "outputs": [],
   "source": [
    "reg_szn_goals_by_team = reg_szn_goals.groupby(['teamCode'])['event'].value_counts().reset_index()"
   ]
  },
  {
   "cell_type": "code",
   "execution_count": null,
   "id": "0bf57a08-2d8f-4874-93b8-7badced3bce4",
   "metadata": {},
   "outputs": [],
   "source": [
    "reg_szn_goals_order = reg_szn_goals_by_team.sort_values(by = 'count', ascending = False).reset_index(drop = True)"
   ]
  },
  {
   "cell_type": "code",
   "execution_count": null,
   "id": "9f27e990-e1d7-475a-a228-e181f21a28ea",
   "metadata": {
    "scrolled": true
   },
   "outputs": [],
   "source": [
    "reg_szn_goals_order"
   ]
  },
  {
   "cell_type": "code",
   "execution_count": null,
   "id": "816d5f30-8cc6-4607-9101-e0784ba634ce",
   "metadata": {},
   "outputs": [],
   "source": [
    "reg_szn_goals_order.head(10).plot(x = 'teamCode', y = 'count', kind = 'bar')\n",
    "plt.xlabel(\"Team Abbreviations\", fontsize=10)\n",
    "plt.ylabel(\"Goals Scored\", fontsize=10)\n",
    "plt.title(\"Teams With the Most Goals Scored From 2007-2023\")\n",
    "plt.legend(\"\", frameon = False)\n",
    "#plt.savefig('Teams With Most Goals.png', bbox_inches='tight')\n",
    "plt.show();"
   ]
  },
  {
   "cell_type": "code",
   "execution_count": null,
   "id": "0f94d182-1e2e-45b8-979a-677bcd415785",
   "metadata": {},
   "outputs": [],
   "source": [
    "reg_szn_goals_order.tail(10).plot(x = 'teamCode', y = 'count', kind = 'bar')\n",
    "plt.xlabel(\"Team Names\", fontsize=10)\n",
    "plt.ylabel(\"Goals Scored\", fontsize=10)\n",
    "plt.title(\"Teams With the Least Goals Scored From 2007-2023\")\n",
    "plt.legend(\"\", frameon = False)\n",
    "#plt.savefig('Teams With Least Goals.png', bbox_inches='tight')\n",
    "plt.show;"
   ]
  },
  {
   "cell_type": "code",
   "execution_count": null,
   "id": "178ddb66-819b-437b-8b09-d3a584d2516d",
   "metadata": {},
   "outputs": [],
   "source": []
  },
  {
   "cell_type": "markdown",
   "id": "1f849670-7fab-4c71-b7da-b48760cca72c",
   "metadata": {},
   "source": [
    "What is the overall scoring percentage across the whole dataset? How does it look like broken down by year? Playoffs?"
   ]
  },
  {
   "cell_type": "code",
   "execution_count": null,
   "id": "519e8baa-59a6-4d24-aaab-055e045fb0cd",
   "metadata": {},
   "outputs": [],
   "source": [
    "shot_num = just_shots.shape[0]\n",
    "print(shot_num)"
   ]
  },
  {
   "cell_type": "code",
   "execution_count": null,
   "id": "f6d3e1f4-14cc-41f9-b22b-740053158a24",
   "metadata": {},
   "outputs": [],
   "source": [
    "goals_num = goals.shape[0]\n",
    "print(goals_num)"
   ]
  },
  {
   "cell_type": "code",
   "execution_count": null,
   "id": "bdefcc05-f84e-40a5-9b2c-b723f4b06e8f",
   "metadata": {},
   "outputs": [],
   "source": [
    "(goals_num/shot_num) *100"
   ]
  },
  {
   "cell_type": "code",
   "execution_count": null,
   "id": "4f28ed77-f675-4146-a9a1-1d2d17a44628",
   "metadata": {},
   "outputs": [],
   "source": [
    "po_just_shots = just_shots.loc[just_shots[\"isPlayoffGame\"] == 1]"
   ]
  },
  {
   "cell_type": "code",
   "execution_count": null,
   "id": "6b74d446-00bb-4722-9409-4b93cbf42f87",
   "metadata": {},
   "outputs": [],
   "source": [
    "po_js_num = po_just_shots.shape[0]"
   ]
  },
  {
   "cell_type": "code",
   "execution_count": null,
   "id": "021d3349-c997-404e-a357-30adb7d0b101",
   "metadata": {},
   "outputs": [],
   "source": [
    "print(po_js_num)"
   ]
  },
  {
   "cell_type": "code",
   "execution_count": null,
   "id": "03abfe2d-bd18-40b4-85d8-9637d2d4442f",
   "metadata": {},
   "outputs": [],
   "source": [
    "po_just_goals = goals.loc[goals[\"isPlayoffGame\"] == 1]"
   ]
  },
  {
   "cell_type": "code",
   "execution_count": null,
   "id": "dd38cf93-59e2-4f82-9c11-5e6001e80c74",
   "metadata": {},
   "outputs": [],
   "source": [
    "po_jg_num = po_just_goals.shape[0]"
   ]
  },
  {
   "cell_type": "code",
   "execution_count": null,
   "id": "b61774c6-3d7a-4d26-aa5c-c955cafab3a6",
   "metadata": {},
   "outputs": [],
   "source": [
    "print(po_jg_num)"
   ]
  },
  {
   "cell_type": "code",
   "execution_count": null,
   "id": "5b5de5ed-d249-4a02-9db7-b4de08a51fb2",
   "metadata": {},
   "outputs": [],
   "source": [
    "(po_jg_num/po_js_num) *100"
   ]
  },
  {
   "cell_type": "code",
   "execution_count": null,
   "id": "04b031ec-f45c-4d16-93eb-41d1cbc30c67",
   "metadata": {},
   "outputs": [],
   "source": []
  },
  {
   "cell_type": "code",
   "execution_count": null,
   "id": "18332981-852e-484e-876e-1a3a87ae559d",
   "metadata": {},
   "outputs": [],
   "source": [
    "player_goals_rs = reg_szn_goals.groupby(['shooterName'])['event'].value_counts().reset_index()"
   ]
  },
  {
   "cell_type": "code",
   "execution_count": null,
   "id": "6af820ff-1d38-41fe-8242-1c232cc2c7ba",
   "metadata": {},
   "outputs": [],
   "source": [
    "player_goals_rs"
   ]
  },
  {
   "cell_type": "code",
   "execution_count": null,
   "id": "afb9b7d4-ea21-42b6-a75d-e5956f956a95",
   "metadata": {},
   "outputs": [],
   "source": [
    "player_goals_rs = player_goals_rs.sort_values(by = 'count', ascending = False).reset_index(drop=True)"
   ]
  },
  {
   "cell_type": "code",
   "execution_count": null,
   "id": "c622b07a-6ab8-4e79-b1d6-0c7fdd398cda",
   "metadata": {},
   "outputs": [],
   "source": [
    "player_goals_rs.head(5)"
   ]
  },
  {
   "cell_type": "code",
   "execution_count": null,
   "id": "7df122f9-0de8-4ada-84d0-7788e0049e90",
   "metadata": {},
   "outputs": [],
   "source": [
    "player_goals_rs.head(10).plot(x = 'shooterName', y = 'count', kind = 'bar')\n",
    "plt.xlabel(\"Player Name\", fontsize=10)\n",
    "plt.ylabel(\"Goals Scored\", fontsize=10)\n",
    "plt.title(\"Players With the Most Goals Scored From 2007-2023\")\n",
    "plt.legend(\"\", frameon = False)\n",
    "#plt.savefig('Active Players With Most Goals.png', bbox_inches='tight')\n",
    "plt.show;"
   ]
  },
  {
   "cell_type": "code",
   "execution_count": null,
   "id": "90084d4c-b44f-4059-8f4f-cfe1a4a85f8e",
   "metadata": {},
   "outputs": [],
   "source": []
  },
  {
   "cell_type": "code",
   "execution_count": null,
   "id": "f47641ec-da4a-4d4f-98da-a8ecd2f58625",
   "metadata": {},
   "outputs": [],
   "source": [
    "po_goals_player = po_goals.groupby(['shooterName'])['event'].value_counts().reset_index()"
   ]
  },
  {
   "cell_type": "code",
   "execution_count": null,
   "id": "37bc3d07-ba4b-43ce-86ec-a7b3ec719fb1",
   "metadata": {},
   "outputs": [],
   "source": [
    "player_goals_po = po_goals_player.sort_values(by = 'count', ascending = False).reset_index(drop=True)"
   ]
  },
  {
   "cell_type": "code",
   "execution_count": null,
   "id": "108f936a-f108-4956-b841-81d560ba6202",
   "metadata": {},
   "outputs": [],
   "source": [
    "player_goals_po.head(5)"
   ]
  },
  {
   "cell_type": "code",
   "execution_count": null,
   "id": "600b2c18-f00e-499f-8fcf-d83bd65fbe21",
   "metadata": {},
   "outputs": [],
   "source": [
    "player_goals_po.head(10).plot(x = 'shooterName', y = 'count', kind = 'bar')\n",
    "plt.xlabel(\"Player Name\", fontsize=10)\n",
    "plt.ylabel(\"Goals Scored\", fontsize=10)\n",
    "plt.title(\"Players With the Most Playoff Goals Scored From 2007-2023\")\n",
    "plt.legend(\"\", frameon = False)\n",
    "#plt.savefig('Active Players With Most Playoff Goals.png', bbox_inches='tight')\n",
    "plt.show;"
   ]
  },
  {
   "cell_type": "code",
   "execution_count": null,
   "id": "4243e794-1796-4d05-8556-a6649d0a9f74",
   "metadata": {},
   "outputs": [],
   "source": []
  },
  {
   "cell_type": "markdown",
   "id": "dfbebb1f-5354-4034-8270-06c4420e2ec4",
   "metadata": {},
   "source": [
    "Trendline: \n",
    "\n",
    "z = np.polyfit(x, y, 1)\n",
    "\n",
    "p = np.poly1d(z)\n",
    "\n",
    "plt.plot(x, p(x), color='red', label='Trendline')\n"
   ]
  },
  {
   "cell_type": "code",
   "execution_count": null,
   "id": "3c0d9c57-6cd7-4d9c-b68d-b864b9f59114",
   "metadata": {},
   "outputs": [],
   "source": []
  },
  {
   "cell_type": "code",
   "execution_count": null,
   "id": "b6b79edf-3a93-4937-b8ac-0d4a72d615ed",
   "metadata": {},
   "outputs": [],
   "source": [
    "Ovi = reg_szn_goals.loc[reg_szn_goals['shooterName'] == 'Alex Ovechkin']"
   ]
  },
  {
   "cell_type": "code",
   "execution_count": null,
   "id": "a9a5fb11-263d-4e2b-b0e6-7e70a5ef8344",
   "metadata": {},
   "outputs": [],
   "source": [
    "Ovi.head(3)"
   ]
  },
  {
   "cell_type": "code",
   "execution_count": null,
   "id": "51e0117f-c4cb-4b22-ba64-53527b93ee61",
   "metadata": {},
   "outputs": [],
   "source": [
    "Ovi.event.value_counts()"
   ]
  },
  {
   "cell_type": "code",
   "execution_count": null,
   "id": "6e564f1f-48c1-4e4e-b157-8c412bfd300c",
   "metadata": {},
   "outputs": [],
   "source": [
    "Ovi_goals_szn = Ovi.groupby(['season'])['event'].value_counts().reset_index()"
   ]
  },
  {
   "cell_type": "code",
   "execution_count": null,
   "id": "b312e39e-9f63-40f1-affa-c5c11fc0cbef",
   "metadata": {
    "scrolled": true
   },
   "outputs": [],
   "source": [
    "Ovi_goals_szn"
   ]
  },
  {
   "cell_type": "code",
   "execution_count": null,
   "id": "caae8e90-254b-4b93-85aa-8853516da63a",
   "metadata": {},
   "outputs": [],
   "source": [
    "Ovi_goals_szn.plot(x = 'season', y = 'count', kind = 'line')\n",
    "plt.xlabel(\"Season\", fontsize=10)\n",
    "plt.ylabel(\"Goals Scored\", fontsize=10)\n",
    "plt.title(\"Ovechkin Goals Per Season 2007-2023\")\n",
    "plt.legend(\"\", frameon = False)\n",
    "#plt.savefig('Ovi Goals.png', bbox_inches='tight')\n",
    "plt.show();"
   ]
  },
  {
   "cell_type": "code",
   "execution_count": null,
   "id": "ba9a3139-93d0-4238-b24a-284d28cbd0bb",
   "metadata": {},
   "outputs": [],
   "source": [
    "Ovi_po = po_goals.loc[po_goals['shooterName'] == 'Alex Ovechkin']"
   ]
  },
  {
   "cell_type": "code",
   "execution_count": null,
   "id": "f919a276-e44c-4778-851d-3577cf114858",
   "metadata": {},
   "outputs": [],
   "source": [
    "Ovi_po.head(3)"
   ]
  },
  {
   "cell_type": "code",
   "execution_count": null,
   "id": "e3ea71a4-a99d-4dc4-967d-278ac1022696",
   "metadata": {},
   "outputs": [],
   "source": [
    "Ovi_po_goals = Ovi_po.groupby(['season'])['event'].value_counts().reset_index()"
   ]
  },
  {
   "cell_type": "code",
   "execution_count": null,
   "id": "8c3179af-ea65-459e-9f19-de9dd2244d28",
   "metadata": {
    "scrolled": true
   },
   "outputs": [],
   "source": [
    "Ovi_po_goals"
   ]
  },
  {
   "cell_type": "code",
   "execution_count": null,
   "id": "4be2a5e3-abef-4a95-9e7e-128be6f16682",
   "metadata": {},
   "outputs": [],
   "source": [
    "Ovi_po_goals.plot(x = 'season', y = 'count', kind = 'line')\n",
    "plt.xlabel(\"Season\", fontsize=10)\n",
    "plt.ylabel(\"Goals Scored\", fontsize=10)\n",
    "plt.title(\"Ovechkin Goals Per Stanley Cup Playoffs 2007-2021\")\n",
    "plt.legend(\"\", frameon = False)\n",
    "#plt.savefig('Ovi Playoff Goals.png', bbox_inches='tight')\n",
    "plt.show();"
   ]
  },
  {
   "cell_type": "code",
   "execution_count": null,
   "id": "935cbe70-c8ee-4b67-80f7-2749541a59ea",
   "metadata": {},
   "outputs": [],
   "source": [
    "reg = reg_szn_goals[['season', 'teamCode', 'event']]\n",
    "reg.head()"
   ]
  },
  {
   "cell_type": "code",
   "execution_count": null,
   "id": "6847d6b2-33cc-442f-ad8c-175d06333fed",
   "metadata": {},
   "outputs": [],
   "source": [
    "t_s_g = reg.groupby(['season'])['teamCode'].value_counts().reset_index()"
   ]
  },
  {
   "cell_type": "code",
   "execution_count": null,
   "id": "12715864-312a-4a84-aad0-cbb0eb3ed82f",
   "metadata": {},
   "outputs": [],
   "source": [
    "avg_g_year = t_s_g.groupby(['teamCode'])['count'].mean().reset_index()"
   ]
  },
  {
   "cell_type": "code",
   "execution_count": null,
   "id": "289ee324-8fdd-429c-b906-5d613a98e6bd",
   "metadata": {},
   "outputs": [],
   "source": [
    "mean_team_season = t_s_g.groupby(['season', 'teamCode'])['count'].mean().reset_index()"
   ]
  },
  {
   "cell_type": "code",
   "execution_count": null,
   "id": "0ed32b0b-c0b9-49a9-b292-8f78cd94d252",
   "metadata": {},
   "outputs": [],
   "source": [
    "mean_team_season.head()"
   ]
  },
  {
   "cell_type": "code",
   "execution_count": null,
   "id": "988c0637-309c-42ee-b1ac-283351919a7f",
   "metadata": {},
   "outputs": [],
   "source": [
    "mean_team_season"
   ]
  },
  {
   "cell_type": "code",
   "execution_count": null,
   "id": "e56cb5cd-9a63-4959-a743-ad5a250b73d9",
   "metadata": {},
   "outputs": [],
   "source": [
    "mts = mean_team_season.sort_values(by = 'count', ascending = False)"
   ]
  },
  {
   "cell_type": "code",
   "execution_count": null,
   "id": "fc9c15f5-8420-4b05-87da-7c97644d850e",
   "metadata": {},
   "outputs": [],
   "source": [
    "mts.head(5)"
   ]
  },
  {
   "cell_type": "code",
   "execution_count": null,
   "id": "4795b8d0-966e-4f04-b948-9bbb400f0392",
   "metadata": {},
   "outputs": [],
   "source": []
  },
  {
   "cell_type": "code",
   "execution_count": null,
   "id": "a6c2ad3c-3ead-4a3a-bed7-d2e838cb6ef8",
   "metadata": {
    "scrolled": true
   },
   "outputs": [],
   "source": [
    "avg_g_year.sort_values(by = 'count', ascending = False)"
   ]
  },
  {
   "cell_type": "code",
   "execution_count": null,
   "id": "ffee280b-7464-4e82-a490-f629c1ec1f51",
   "metadata": {},
   "outputs": [],
   "source": []
  },
  {
   "cell_type": "code",
   "execution_count": null,
   "id": "09e7abae-386f-4c79-b9f7-5925745977b4",
   "metadata": {
    "scrolled": true
   },
   "outputs": [],
   "source": [
    "reg_szn_goals.groupby(['teamCode'])['event'].value_counts().reset_index()"
   ]
  },
  {
   "cell_type": "code",
   "execution_count": null,
   "id": "8a74052f-2899-47f3-8efe-1988bca055dd",
   "metadata": {},
   "outputs": [],
   "source": []
  },
  {
   "cell_type": "code",
   "execution_count": null,
   "id": "9e6530aa-fdab-4142-96ee-ced618522abf",
   "metadata": {},
   "outputs": [],
   "source": [
    "st_count = reg_szn_goals.groupby(['season'])['shotType'].value_counts().reset_index()"
   ]
  },
  {
   "cell_type": "code",
   "execution_count": null,
   "id": "ea533b4e-9516-4e5a-9c07-727308d01b8f",
   "metadata": {},
   "outputs": [],
   "source": [
    "st_count.head()"
   ]
  },
  {
   "cell_type": "code",
   "execution_count": null,
   "id": "10621a96-3d96-4bd8-a982-2907bb98f3b2",
   "metadata": {},
   "outputs": [],
   "source": [
    "esst = reg_szn_goals[['event', 'season', 'shotType']]"
   ]
  },
  {
   "cell_type": "code",
   "execution_count": null,
   "id": "3df35cad-8416-4b42-99cf-afbeb43cac36",
   "metadata": {},
   "outputs": [],
   "source": [
    "type_cps = esst.groupby(['season'])['shotType'].value_counts().reset_index()"
   ]
  },
  {
   "cell_type": "code",
   "execution_count": null,
   "id": "80219989-dcde-4e6c-8d47-ce16a448fff5",
   "metadata": {},
   "outputs": [],
   "source": [
    "type_cps.tail(14)"
   ]
  },
  {
   "cell_type": "code",
   "execution_count": null,
   "id": "b8efa4c3-324e-4970-9e06-6206303625a1",
   "metadata": {},
   "outputs": [],
   "source": [
    "most_per_year = type_cps.groupby(['season'])['count'].max().reset_index()"
   ]
  },
  {
   "cell_type": "code",
   "execution_count": null,
   "id": "80d5f8bf-35b5-4784-9ec3-3b59f822b6b6",
   "metadata": {},
   "outputs": [],
   "source": [
    "most_per_year"
   ]
  },
  {
   "cell_type": "code",
   "execution_count": null,
   "id": "9f7e45a2-dc11-4a5e-9752-8cc5e90a176b",
   "metadata": {},
   "outputs": [],
   "source": [
    "count_type = pd.merge(most_per_year, type_cps, \n",
    "                               left_on = 'count', right_on = 'count', \n",
    "                               how = 'left')\n",
    "count_type.head(19)"
   ]
  },
  {
   "cell_type": "code",
   "execution_count": null,
   "id": "f2b4efe9-cbc7-4528-9be2-656c38037651",
   "metadata": {},
   "outputs": [],
   "source": [
    "count_type.plot(x = 'season_x', y = 'count', kind = 'line')\n",
    "plt.xlabel(\"Season\", fontsize=10)\n",
    "plt.ylabel(\"Shot Attempts\", fontsize=10)\n",
    "plt.title(\"Most Shot Attempts Each Year\")\n",
    "plt.legend(\"\", frameon = False)\n",
    "#plt.savefig('Most Shot Attempts.png', bbox_inches='tight')\n",
    "plt.show();"
   ]
  },
  {
   "cell_type": "code",
   "execution_count": null,
   "id": "cfd7e062-f4bc-4854-95de-580455fa990a",
   "metadata": {},
   "outputs": [],
   "source": []
  },
  {
   "cell_type": "code",
   "execution_count": null,
   "id": "d3aa657a-dbc1-4a8e-9fd2-704baa6ac7cc",
   "metadata": {},
   "outputs": [],
   "source": [
    "WRIST = st_count.loc[st_count['shotType'] == 'WRIST']"
   ]
  },
  {
   "cell_type": "code",
   "execution_count": null,
   "id": "6002280a-d320-4126-bd7b-2ee24d0825d8",
   "metadata": {},
   "outputs": [],
   "source": [
    "WRIST.plot(x = 'season', y = 'count', kind = 'line')\n",
    "plt.xlabel(\"Season\", fontsize=10)\n",
    "plt.ylabel(\"Shot Attempts\", fontsize=10)\n",
    "plt.title(\"Wrist Shot Attempts Each Year\")\n",
    "plt.legend(\"\", frameon = False)\n",
    "#plt.savefig('Wrist Shot Attempts.png', bbox_inches='tight')\n",
    "plt.show();"
   ]
  },
  {
   "cell_type": "code",
   "execution_count": null,
   "id": "dd273972-c9e9-4c5c-82c3-a16a0a4676f3",
   "metadata": {},
   "outputs": [],
   "source": []
  },
  {
   "cell_type": "code",
   "execution_count": null,
   "id": "96d2520c-989f-4a4f-93e3-a27b21bb5f70",
   "metadata": {},
   "outputs": [],
   "source": [
    "SLAP = st_count.loc[st_count['shotType'] == 'SLAP']"
   ]
  },
  {
   "cell_type": "code",
   "execution_count": null,
   "id": "d3ff9fd7-ca33-413f-bdc9-7f2a695550b3",
   "metadata": {},
   "outputs": [],
   "source": [
    "SLAP.plot(x = 'season', y = 'count', kind = 'line')\n",
    "plt.xlabel(\"Season\", fontsize=10)\n",
    "plt.ylabel(\"Shot Attempts\", fontsize=10)\n",
    "plt.title(\"Slap Shots Per Season 2007-2023\")\n",
    "plt.legend(\"\", frameon = False)\n",
    "#plt.savefig('Slap Shots Per Year.png', bbox_inches='tight')\n",
    "plt.show();"
   ]
  },
  {
   "cell_type": "code",
   "execution_count": null,
   "id": "57e71825-98c8-4acf-967a-7c9a3c9e66ab",
   "metadata": {},
   "outputs": [],
   "source": []
  },
  {
   "cell_type": "code",
   "execution_count": null,
   "id": "4e138b0e-ff1a-4be3-9cfc-99ad153be3d7",
   "metadata": {},
   "outputs": [],
   "source": [
    "WRAP = st_count.loc[st_count['shotType'] == 'WRAP']"
   ]
  },
  {
   "cell_type": "code",
   "execution_count": null,
   "id": "c259cebf-1956-4a2e-83d0-c11addb612c2",
   "metadata": {},
   "outputs": [],
   "source": [
    "WRAP.plot(x = 'season', y = 'count', kind = 'line')\n",
    "plt.xlabel(\"Season\", fontsize=10)\n",
    "plt.ylabel(\"Shot Attempts\", fontsize=10)\n",
    "plt.title(\"Wrap Around Attempts Per Season 2007-2023\")\n",
    "plt.legend(\"\", frameon = False)\n",
    "#plt.savefig('Wrap Around Attempts.png', bbox_inches='tight')\n",
    "plt.show();"
   ]
  },
  {
   "cell_type": "code",
   "execution_count": null,
   "id": "4542c47f-e0dc-4f99-8101-265f7f2bd55b",
   "metadata": {},
   "outputs": [],
   "source": []
  },
  {
   "cell_type": "code",
   "execution_count": null,
   "id": "b449428a-8cc1-488f-b2e3-1977c994e165",
   "metadata": {},
   "outputs": [],
   "source": [
    "SNAP = st_count.loc[st_count['shotType'] == 'SNAP']"
   ]
  },
  {
   "cell_type": "code",
   "execution_count": null,
   "id": "a006e200-7093-414c-a80b-84087c5eb6ce",
   "metadata": {},
   "outputs": [],
   "source": [
    "SNAP.plot(x = 'season', y = 'count', kind = 'line')\n",
    "plt.xlabel(\"Season\", fontsize=10)\n",
    "plt.ylabel(\"Shot Attempts\", fontsize=10)\n",
    "plt.title(\"Snap Shots Per Season 2007-2023\")\n",
    "plt.legend(\"\", frameon = False)\n",
    "#plt.savefig('Snap Shots Attempts.png', bbox_inches='tight')\n",
    "plt.show();"
   ]
  },
  {
   "cell_type": "code",
   "execution_count": null,
   "id": "75b32492-90eb-4b84-9e2e-a84722a60dc2",
   "metadata": {},
   "outputs": [],
   "source": []
  },
  {
   "cell_type": "code",
   "execution_count": null,
   "id": "75e5bc3b-85db-4f3b-a8f2-f7f5a9de26e0",
   "metadata": {},
   "outputs": [],
   "source": [
    "DEFL = st_count.loc[st_count['shotType'] == 'DEFL']"
   ]
  },
  {
   "cell_type": "code",
   "execution_count": null,
   "id": "1ee94431-1a4e-4b3d-8c6f-182bd2d89613",
   "metadata": {},
   "outputs": [],
   "source": [
    "DEFL.plot(x = 'season', y = 'count', kind = 'line')\n",
    "plt.xlabel(\"Season\", fontsize=10)\n",
    "plt.ylabel(\"Shots Deflected\", fontsize=10)\n",
    "plt.title(\"Deflected Shots Per Season 2007-2023\")\n",
    "plt.legend(\"\", frameon = False)\n",
    "#plt.savefig('Deflected Shots.png', bbox_inches='tight')\n",
    "plt.show();"
   ]
  },
  {
   "cell_type": "code",
   "execution_count": null,
   "id": "be15dd66-c2d2-446d-a150-33bb89761ad7",
   "metadata": {},
   "outputs": [],
   "source": []
  },
  {
   "cell_type": "code",
   "execution_count": null,
   "id": "c1bdc7ef-4bbb-412d-8953-bc17a070f867",
   "metadata": {},
   "outputs": [],
   "source": [
    "TIP = st_count.loc[st_count['shotType'] == 'TIP']"
   ]
  },
  {
   "cell_type": "code",
   "execution_count": null,
   "id": "936cc089-c960-41ac-8b7d-4f31ae2c331d",
   "metadata": {},
   "outputs": [],
   "source": [
    "TIP.plot(x = 'season', y = 'count', kind = 'line')\n",
    "plt.xlabel(\"Season\", fontsize=10)\n",
    "plt.ylabel(\"Shots Tipped\", fontsize=10)\n",
    "plt.title(\"Tipped Shots Per Season 2007-2023\")\n",
    "plt.legend(\"\", frameon = False)\n",
    "#plt.savefig('Tip Time.png', bbox_inches='tight')\n",
    "plt.show();"
   ]
  },
  {
   "cell_type": "code",
   "execution_count": null,
   "id": "28725442-3055-4461-a9e0-326fa00fcba1",
   "metadata": {},
   "outputs": [],
   "source": []
  },
  {
   "cell_type": "code",
   "execution_count": null,
   "id": "4933e238-249f-4fda-907b-4e7ab3465052",
   "metadata": {},
   "outputs": [],
   "source": [
    "BACK = st_count.loc[st_count['shotType'] == 'BACK']"
   ]
  },
  {
   "cell_type": "code",
   "execution_count": null,
   "id": "13ad5dca-38b9-4712-a54d-35aa200622d3",
   "metadata": {},
   "outputs": [],
   "source": [
    "BACK.plot(x = 'season', y = 'count', kind = 'line')\n",
    "plt.xlabel(\"Season\", fontsize=10)\n",
    "plt.ylabel(\"Backhand Shots\", fontsize=10)\n",
    "plt.title(\"Backhand Shots Per Season 2007-2023\")\n",
    "plt.legend(\"\", frameon = False)\n",
    "#plt.savefig('Backhand.png', bbox_inches='tight')\n",
    "plt.show();"
   ]
  },
  {
   "cell_type": "code",
   "execution_count": null,
   "id": "5ea3ee61-ba73-4a20-b7fb-169cf6a87871",
   "metadata": {},
   "outputs": [],
   "source": []
  },
  {
   "cell_type": "code",
   "execution_count": null,
   "id": "fcee154e-dc81-4555-8fb1-5935ec3128d2",
   "metadata": {},
   "outputs": [],
   "source": []
  }
 ],
 "metadata": {
  "kernelspec": {
   "display_name": "Python 3 (ipykernel)",
   "language": "python",
   "name": "python3"
  },
  "language_info": {
   "codemirror_mode": {
    "name": "ipython",
    "version": 3
   },
   "file_extension": ".py",
   "mimetype": "text/x-python",
   "name": "python",
   "nbconvert_exporter": "python",
   "pygments_lexer": "ipython3",
   "version": "3.12.4"
  }
 },
 "nbformat": 4,
 "nbformat_minor": 5
}
