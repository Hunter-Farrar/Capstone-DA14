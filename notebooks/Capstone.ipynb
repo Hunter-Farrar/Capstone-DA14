{
 "cells": [
  {
   "cell_type": "code",
   "execution_count": null,
   "id": "3f03fb15-ad60-4c43-a209-5da4dc82abc4",
   "metadata": {},
   "outputs": [],
   "source": [
    "import pandas as pd\n",
    "import seaborn as sns \n",
    "import matplotlib.pyplot as plt\n",
    "import numpy as np"
   ]
  },
  {
   "cell_type": "code",
   "execution_count": null,
   "id": "b357456d-6476-4766-bfb6-b633b43635a6",
   "metadata": {},
   "outputs": [],
   "source": [
    "shots = pd.read_csv('../data/shots_2007-2023.csv')"
   ]
  },
  {
   "cell_type": "code",
   "execution_count": null,
   "id": "ad2912ff-bad5-40a3-9d28-6a4cd7860db2",
   "metadata": {},
   "outputs": [],
   "source": [
    "shots.event.value_counts()"
   ]
  },
  {
   "cell_type": "code",
   "execution_count": null,
   "id": "d2cef06e-21de-4ae0-a55f-aef98b10d9c8",
   "metadata": {},
   "outputs": [],
   "source": [
    "shots.head()"
   ]
  },
  {
   "cell_type": "code",
   "execution_count": null,
   "id": "4a21676c-bcb6-4a23-aa83-7f8190b1227d",
   "metadata": {},
   "outputs": [],
   "source": [
    "just_shots = shots.loc[shots['event'] == 'SHOT'].reset_index(drop = True)"
   ]
  },
  {
   "cell_type": "code",
   "execution_count": null,
   "id": "f8a2cf0b-b78a-4bd7-856b-b49e7392d015",
   "metadata": {},
   "outputs": [],
   "source": [
    "reg_szn_shots = just_shots.loc[just_shots['isPlayoffGame'] == 0]"
   ]
  },
  {
   "cell_type": "code",
   "execution_count": null,
   "id": "f98d2f93-07e9-464d-be46-4dd1f1a430b3",
   "metadata": {},
   "outputs": [],
   "source": [
    "reg_szn_shots.head()"
   ]
  },
  {
   "cell_type": "code",
   "execution_count": null,
   "id": "5eed275e-4c37-4fa4-b9bb-1ba61ba6ff7d",
   "metadata": {},
   "outputs": [],
   "source": [
    "shots.shape"
   ]
  },
  {
   "cell_type": "markdown",
   "id": "e91ae812-b33e-4ef3-909f-d67775e5afab",
   "metadata": {},
   "source": [
    "Different event types in dataset"
   ]
  },
  {
   "cell_type": "code",
   "execution_count": null,
   "id": "4adefc54-a887-44b1-bba0-c0511a0a1c2a",
   "metadata": {},
   "outputs": [],
   "source": [
    "ev_count = shots.event.value_counts().reset_index()"
   ]
  },
  {
   "cell_type": "code",
   "execution_count": null,
   "id": "90b3cc11-bff2-49f1-b532-e88afa0df4d8",
   "metadata": {},
   "outputs": [],
   "source": [
    "plt.pie(ev_count['count'],\n",
    "        labels=ev_count['event'],\n",
    "        autopct= '%1.1f%%',\n",
    "       colors= [\n",
    "            'red', 'cornflowerblue', 'orchid'])\n",
    "plt.title('All Events')\n",
    "#plt.savefig('Event Counts.png', bbox_inches='tight')\n",
    "plt.show();"
   ]
  },
  {
   "cell_type": "markdown",
   "id": "3cdfe958-2840-41ef-bc1e-1725ee5eb4f1",
   "metadata": {},
   "source": [
    "Fix teamCode abbreviations."
   ]
  },
  {
   "cell_type": "code",
   "execution_count": null,
   "id": "fe128b93-953c-40cd-928f-666183d4d0fa",
   "metadata": {},
   "outputs": [],
   "source": [
    "shots['teamCode'] = shots['teamCode'].str.replace('S.J', 'SJS')"
   ]
  },
  {
   "cell_type": "code",
   "execution_count": null,
   "id": "6cf1606f-1247-4835-a962-f4535de538e1",
   "metadata": {},
   "outputs": [],
   "source": [
    "shots['teamCode'] = shots['teamCode'].str.replace('T.B', 'TBL')"
   ]
  },
  {
   "cell_type": "code",
   "execution_count": null,
   "id": "945e3820-3f3a-4b18-94b6-291268eee0de",
   "metadata": {},
   "outputs": [],
   "source": [
    "shots['teamCode'] = shots['teamCode'].str.replace('N.J', 'NJD')"
   ]
  },
  {
   "cell_type": "code",
   "execution_count": null,
   "id": "97009d2e-199e-4770-b293-e4f49f51e22a",
   "metadata": {},
   "outputs": [],
   "source": [
    "shots['teamCode'] = shots['teamCode'].str.replace('L.A', 'LAK')"
   ]
  },
  {
   "cell_type": "markdown",
   "id": "b4e01655-1c94-4c71-96bb-4f2a16a8e590",
   "metadata": {},
   "source": [
    "How many goals are there per season/playoffs?"
   ]
  },
  {
   "cell_type": "code",
   "execution_count": null,
   "id": "ecdf32b2-53a5-42eb-bf89-6d4c6a3bfbfe",
   "metadata": {},
   "outputs": [],
   "source": [
    "goals = shots.loc[shots['event'] == 'GOAL'].reset_index(drop = True)"
   ]
  },
  {
   "cell_type": "code",
   "execution_count": null,
   "id": "c7655630-6d9d-49c1-a2bc-60857b6b944f",
   "metadata": {},
   "outputs": [],
   "source": [
    "goals.head()"
   ]
  },
  {
   "cell_type": "code",
   "execution_count": null,
   "id": "3f1f4551-eb73-4f51-be1e-0a332e00a6d5",
   "metadata": {},
   "outputs": [],
   "source": [
    "reg_szn_goals = goals.loc[goals['isPlayoffGame'] == 0]"
   ]
  },
  {
   "cell_type": "code",
   "execution_count": null,
   "id": "b1ebfe0b-a8fe-420a-b2e2-7645d0f87ae0",
   "metadata": {},
   "outputs": [],
   "source": [
    "goals_per_season = reg_szn_goals.groupby(['season'])['event'].value_counts().reset_index()"
   ]
  },
  {
   "cell_type": "code",
   "execution_count": null,
   "id": "7f89e3cf-8fa2-4c1c-ab4d-e9dd4d946fe5",
   "metadata": {
    "scrolled": true
   },
   "outputs": [],
   "source": [
    "goals_per_season"
   ]
  },
  {
   "cell_type": "code",
   "execution_count": null,
   "id": "85a4fced-5f67-4674-8235-ab6e70d68f07",
   "metadata": {},
   "outputs": [],
   "source": [
    "goals_per_season.plot(x = 'season', y = 'count', kind = 'line')\n",
    "plt.annotate(\n",
    "    'Lockout Season',\n",
    "    xy=(2012,3814),\n",
    "    xytext=(2015,3814),\n",
    "    arrowprops=dict(facecolor='black', shrink=0.05),\n",
    "    ha='center'\n",
    ")\n",
    "plt.annotate(\n",
    "    'Covid-19 Season',\n",
    "    xy=(2020,5022),\n",
    "    xytext=(2016,5022),\n",
    "    arrowprops=dict(facecolor='black', shrink=0.05),\n",
    "    ha='center'\n",
    ")\n",
    "plt.xlabel(\"Season\", fontsize=10)\n",
    "plt.ylabel(\"Goals Scored\", fontsize=10)\n",
    "plt.title(\"Goals Scored Per NHL Regular Season 2007-2023\")\n",
    "plt.legend(\"\", frameon = False)\n",
    "plt.grid(False)\n",
    "#plt.savefig('Goals Scored Per Regular Season.png', bbox_inches='tight')\n",
    "plt.show();"
   ]
  },
  {
   "cell_type": "markdown",
   "id": "5cc8415d-bda2-4d52-8e41-57639e6d010d",
   "metadata": {},
   "source": [
    "NOTES: \n",
    "\n",
    "    1) 2012 only 48 games were played total due to a Lockout\n",
    "    \n",
    "    2) 2017 NHL Expansion adding VGK\n",
    "    \n",
    "    3) 2019 due to Covid-19 teams played between 68-71 games (Playoffs included Qualifying Round for teams)\n",
    "    "
   ]
  },
  {
   "cell_type": "code",
   "execution_count": null,
   "id": "24e3cba8-db24-45cc-8a14-6bb0c24a5b23",
   "metadata": {},
   "outputs": [],
   "source": [
    "po_goals = goals.loc[goals['isPlayoffGame'] == 1]"
   ]
  },
  {
   "cell_type": "code",
   "execution_count": null,
   "id": "5eb38cb9-b885-471d-bf6f-b3b79cf5d2c5",
   "metadata": {},
   "outputs": [],
   "source": [
    "po_goals.loc[po_goals['season'] == 2023]"
   ]
  },
  {
   "cell_type": "code",
   "execution_count": null,
   "id": "ea2ea3b7-cc42-404b-8732-376143b75448",
   "metadata": {},
   "outputs": [],
   "source": [
    "po_goals_zone = po_goals.groupby(['season', 'homeTeamCode', 'awayTeamCode'])['event'].value_counts().reset_index()"
   ]
  },
  {
   "cell_type": "code",
   "execution_count": null,
   "id": "58deca92-0752-4782-a992-16c1dd58fc8e",
   "metadata": {},
   "outputs": [],
   "source": [
    "po_goals_zone.loc[po_goals_zone['homeTeamCode'] == 'NSH'].sort_values(by = 'count', ascending = False)"
   ]
  },
  {
   "cell_type": "code",
   "execution_count": null,
   "id": "c145bcd1-0315-40aa-b0cb-d03ee4772130",
   "metadata": {},
   "outputs": [],
   "source": [
    "po_goals_zone.loc[po_goals_zone['awayTeamCode'] == 'NSH'].sort_values(by = 'count', ascending = False)"
   ]
  },
  {
   "cell_type": "code",
   "execution_count": null,
   "id": "bc928443-8aaa-4ce9-a09b-2d2614a381f4",
   "metadata": {},
   "outputs": [],
   "source": []
  },
  {
   "cell_type": "code",
   "execution_count": null,
   "id": "bdfeb42c-900d-4c48-92f4-32f07b5d4075",
   "metadata": {},
   "outputs": [],
   "source": [
    "goals_per_po = po_goals.groupby(['season'])['event'].value_counts().reset_index()"
   ]
  },
  {
   "cell_type": "code",
   "execution_count": null,
   "id": "e4da0e42-a929-4d3a-8273-f1b65b6560c6",
   "metadata": {
    "scrolled": true
   },
   "outputs": [],
   "source": [
    "goals_per_po"
   ]
  },
  {
   "cell_type": "code",
   "execution_count": null,
   "id": "82036752-a516-409a-97fd-f7d828727d5d",
   "metadata": {},
   "outputs": [],
   "source": [
    "goals_per_po.plot(x = 'season', y = 'count', kind = 'line')\n",
    "plt.annotate(\n",
    "    '24 Team Playoff Format',\n",
    "    xy=(2019,712),\n",
    "    xytext=(2015,712),\n",
    "    arrowprops=dict(facecolor='black', shrink=0.05),\n",
    "    ha='center'\n",
    ")\n",
    "plt.xlabel(\"Season\", fontsize=10)\n",
    "plt.ylabel(\"Goals Scored\", fontsize=10)\n",
    "plt.title(\"Goals Scored Per Stanley Cup Playoff 2007-2023\")\n",
    "plt.legend(\"\", frameon = False)\n",
    "#plt.savefig('Goals Scored Per SCP.png', bbox_inches='tight')\n",
    "plt.show();"
   ]
  },
  {
   "cell_type": "code",
   "execution_count": null,
   "id": "73efaf64-1f5f-4f4d-b43c-82ea58137a9a",
   "metadata": {},
   "outputs": [],
   "source": [
    "most_po_goals = po_goals.loc[po_goals['season'] == 2019]"
   ]
  },
  {
   "cell_type": "code",
   "execution_count": null,
   "id": "3f16fc56-80b2-49ef-b769-33da049e4bc2",
   "metadata": {
    "scrolled": true
   },
   "outputs": [],
   "source": [
    "most_po_goals.groupby(['teamCode'])['event'].value_counts().reset_index()"
   ]
  },
  {
   "cell_type": "code",
   "execution_count": null,
   "id": "e258e692-f97d-4fa8-92d5-81dd28081a2a",
   "metadata": {},
   "outputs": [],
   "source": [
    "po_goal_inv = most_po_goals[['homeTeamCode', 'awayTeamCode', 'teamCode', 'event', 'isPlayoffGame']]"
   ]
  },
  {
   "cell_type": "code",
   "execution_count": null,
   "id": "da0d753e-6fea-41e6-9b1e-da0b1fdb8908",
   "metadata": {
    "scrolled": true
   },
   "outputs": [],
   "source": [
    "po_goal_inv.loc[po_goal_inv['teamCode'] == 'ARI']"
   ]
  },
  {
   "cell_type": "code",
   "execution_count": null,
   "id": "fd5990e4-360d-421e-b25b-a30de6818c22",
   "metadata": {},
   "outputs": [],
   "source": []
  },
  {
   "cell_type": "markdown",
   "id": "675710c0-d059-422f-b632-2867c80293e7",
   "metadata": {},
   "source": [
    "How many goals (per season) has each team scored?"
   ]
  },
  {
   "cell_type": "code",
   "execution_count": null,
   "id": "e14d0ca2-0c4a-4cd6-a140-d6e2a22d332d",
   "metadata": {},
   "outputs": [],
   "source": [
    "reg_szn_goals_by_team = reg_szn_goals.groupby(['teamCode'])['event'].value_counts().reset_index()"
   ]
  },
  {
   "cell_type": "code",
   "execution_count": null,
   "id": "0bf57a08-2d8f-4874-93b8-7badced3bce4",
   "metadata": {},
   "outputs": [],
   "source": [
    "reg_szn_goals_order = reg_szn_goals_by_team.sort_values(by = 'count', ascending = False).reset_index(drop = True)"
   ]
  },
  {
   "cell_type": "code",
   "execution_count": null,
   "id": "9f27e990-e1d7-475a-a228-e181f21a28ea",
   "metadata": {
    "scrolled": true
   },
   "outputs": [],
   "source": [
    "reg_szn_goals_order"
   ]
  },
  {
   "cell_type": "code",
   "execution_count": null,
   "id": "816d5f30-8cc6-4607-9101-e0784ba634ce",
   "metadata": {},
   "outputs": [],
   "source": [
    "reg_szn_goals_order.head(10).plot(x = 'teamCode', y = 'count', kind = 'bar')\n",
    "plt.xlabel(\"Team Abbreviations\", fontsize=10)\n",
    "plt.ylabel(\"Goals Scored\", fontsize=10)\n",
    "plt.title(\"Teams With the Most Goals Scored From 2007-2023\")\n",
    "plt.legend(\"\", frameon = False)\n",
    "#plt.savefig('Teams With Most Goals.png', bbox_inches='tight')\n",
    "plt.show();"
   ]
  },
  {
   "cell_type": "code",
   "execution_count": null,
   "id": "0f94d182-1e2e-45b8-979a-677bcd415785",
   "metadata": {},
   "outputs": [],
   "source": [
    "reg_szn_goals_order.tail(10).plot(x = 'teamCode', y = 'count', kind = 'bar')\n",
    "plt.xlabel(\"Team Names\", fontsize=10)\n",
    "plt.ylabel(\"Goals Scored\", fontsize=10)\n",
    "plt.title(\"Teams With the Least Goals Scored From 2007-2023\")\n",
    "plt.legend(\"\", frameon = False)\n",
    "#plt.savefig('Teams With Least Goals.png', bbox_inches='tight')\n",
    "plt.show;"
   ]
  },
  {
   "cell_type": "code",
   "execution_count": null,
   "id": "178ddb66-819b-437b-8b09-d3a584d2516d",
   "metadata": {},
   "outputs": [],
   "source": []
  },
  {
   "cell_type": "markdown",
   "id": "1f849670-7fab-4c71-b7da-b48760cca72c",
   "metadata": {},
   "source": [
    "What is the overall scoring percentage across the whole dataset? How does it look like broken down by year? Playoffs?"
   ]
  },
  {
   "cell_type": "code",
   "execution_count": null,
   "id": "519e8baa-59a6-4d24-aaab-055e045fb0cd",
   "metadata": {},
   "outputs": [],
   "source": [
    "shot_num = just_shots.shape[0]\n",
    "print(shot_num)"
   ]
  },
  {
   "cell_type": "code",
   "execution_count": null,
   "id": "f6d3e1f4-14cc-41f9-b22b-740053158a24",
   "metadata": {},
   "outputs": [],
   "source": [
    "goals_num = goals.shape[0]\n",
    "print(goals_num)"
   ]
  },
  {
   "cell_type": "code",
   "execution_count": null,
   "id": "bdefcc05-f84e-40a5-9b2c-b723f4b06e8f",
   "metadata": {},
   "outputs": [],
   "source": [
    "(goals_num/shot_num) *100"
   ]
  },
  {
   "cell_type": "code",
   "execution_count": null,
   "id": "4f28ed77-f675-4146-a9a1-1d2d17a44628",
   "metadata": {},
   "outputs": [],
   "source": [
    "po_just_shots = just_shots.loc[just_shots[\"isPlayoffGame\"] == 1]"
   ]
  },
  {
   "cell_type": "code",
   "execution_count": null,
   "id": "6b74d446-00bb-4722-9409-4b93cbf42f87",
   "metadata": {},
   "outputs": [],
   "source": [
    "po_js_num = po_just_shots.shape[0]"
   ]
  },
  {
   "cell_type": "code",
   "execution_count": null,
   "id": "021d3349-c997-404e-a357-30adb7d0b101",
   "metadata": {},
   "outputs": [],
   "source": [
    "print(po_js_num)"
   ]
  },
  {
   "cell_type": "code",
   "execution_count": null,
   "id": "03abfe2d-bd18-40b4-85d8-9637d2d4442f",
   "metadata": {},
   "outputs": [],
   "source": [
    "po_just_goals = goals.loc[goals[\"isPlayoffGame\"] == 1]"
   ]
  },
  {
   "cell_type": "code",
   "execution_count": null,
   "id": "dd38cf93-59e2-4f82-9c11-5e6001e80c74",
   "metadata": {},
   "outputs": [],
   "source": [
    "po_jg_num = po_just_goals.shape[0]"
   ]
  },
  {
   "cell_type": "code",
   "execution_count": null,
   "id": "b61774c6-3d7a-4d26-aa5c-c955cafab3a6",
   "metadata": {},
   "outputs": [],
   "source": [
    "print(po_jg_num)"
   ]
  },
  {
   "cell_type": "code",
   "execution_count": null,
   "id": "5b5de5ed-d249-4a02-9db7-b4de08a51fb2",
   "metadata": {},
   "outputs": [],
   "source": [
    "(po_jg_num/po_js_num) *100"
   ]
  },
  {
   "cell_type": "code",
   "execution_count": null,
   "id": "04b031ec-f45c-4d16-93eb-41d1cbc30c67",
   "metadata": {},
   "outputs": [],
   "source": []
  },
  {
   "cell_type": "markdown",
   "id": "0a9fac80-4182-4d8c-b1f8-529b6a3675d4",
   "metadata": {},
   "source": [
    "Look at the individual player stats foor top players in Regular Season and Playoffs"
   ]
  },
  {
   "cell_type": "code",
   "execution_count": null,
   "id": "18332981-852e-484e-876e-1a3a87ae559d",
   "metadata": {},
   "outputs": [],
   "source": [
    "player_goals_rs = reg_szn_goals.groupby(['shooterName'])['event'].value_counts().reset_index()"
   ]
  },
  {
   "cell_type": "code",
   "execution_count": null,
   "id": "6af820ff-1d38-41fe-8242-1c232cc2c7ba",
   "metadata": {},
   "outputs": [],
   "source": [
    "player_goals_rs"
   ]
  },
  {
   "cell_type": "code",
   "execution_count": null,
   "id": "afb9b7d4-ea21-42b6-a75d-e5956f956a95",
   "metadata": {},
   "outputs": [],
   "source": [
    "player_goals_rs = player_goals_rs.sort_values(by = 'count', ascending = False).reset_index(drop=True)"
   ]
  },
  {
   "cell_type": "code",
   "execution_count": null,
   "id": "c622b07a-6ab8-4e79-b1d6-0c7fdd398cda",
   "metadata": {},
   "outputs": [],
   "source": [
    "player_goals_rs.head(5)"
   ]
  },
  {
   "cell_type": "code",
   "execution_count": null,
   "id": "7df122f9-0de8-4ada-84d0-7788e0049e90",
   "metadata": {},
   "outputs": [],
   "source": [
    "player_goals_rs.head(10).plot(x = 'shooterName', y = 'count', kind = 'bar')\n",
    "plt.xlabel(\"Player Name\", fontsize=10)\n",
    "plt.ylabel(\"Goals Scored\", fontsize=10)\n",
    "plt.title(\"Players With the Most Goals Scored From 2007-2023\")\n",
    "plt.legend(\"\", frameon = False)\n",
    "#plt.savefig('Active Players With Most Goals.png', bbox_inches='tight')\n",
    "plt.show;"
   ]
  },
  {
   "cell_type": "code",
   "execution_count": null,
   "id": "90084d4c-b44f-4059-8f4f-cfe1a4a85f8e",
   "metadata": {},
   "outputs": [],
   "source": []
  },
  {
   "cell_type": "code",
   "execution_count": null,
   "id": "f47641ec-da4a-4d4f-98da-a8ecd2f58625",
   "metadata": {},
   "outputs": [],
   "source": [
    "po_goals_player = po_goals.groupby(['shooterName'])['event'].value_counts().reset_index()"
   ]
  },
  {
   "cell_type": "code",
   "execution_count": null,
   "id": "37bc3d07-ba4b-43ce-86ec-a7b3ec719fb1",
   "metadata": {},
   "outputs": [],
   "source": [
    "player_goals_po = po_goals_player.sort_values(by = 'count', ascending = False).reset_index(drop=True)"
   ]
  },
  {
   "cell_type": "code",
   "execution_count": null,
   "id": "108f936a-f108-4956-b841-81d560ba6202",
   "metadata": {},
   "outputs": [],
   "source": [
    "player_goals_po.head(5)"
   ]
  },
  {
   "cell_type": "code",
   "execution_count": null,
   "id": "600b2c18-f00e-499f-8fcf-d83bd65fbe21",
   "metadata": {},
   "outputs": [],
   "source": [
    "player_goals_po.head(10).plot(x = 'shooterName', y = 'count', kind = 'bar')\n",
    "plt.xlabel(\"Player Name\", fontsize=10)\n",
    "plt.ylabel(\"Goals Scored\", fontsize=10)\n",
    "plt.title(\"Players With the Most Playoff Goals Scored From 2007-2023\")\n",
    "plt.legend(\"\", frameon = False)\n",
    "#plt.savefig('Active Players With Most Playoff Goals.png', bbox_inches='tight')\n",
    "plt.show;"
   ]
  },
  {
   "cell_type": "code",
   "execution_count": null,
   "id": "4243e794-1796-4d05-8556-a6649d0a9f74",
   "metadata": {},
   "outputs": [],
   "source": []
  },
  {
   "cell_type": "markdown",
   "id": "dfbebb1f-5354-4034-8270-06c4420e2ec4",
   "metadata": {},
   "source": [
    "Looking at Alex Ovechkin goals across the years in both Reg Season and PO"
   ]
  },
  {
   "cell_type": "code",
   "execution_count": null,
   "id": "3c0d9c57-6cd7-4d9c-b68d-b864b9f59114",
   "metadata": {},
   "outputs": [],
   "source": []
  },
  {
   "cell_type": "code",
   "execution_count": null,
   "id": "b6b79edf-3a93-4937-b8ac-0d4a72d615ed",
   "metadata": {},
   "outputs": [],
   "source": [
    "Ovi = reg_szn_goals.loc[reg_szn_goals['shooterName'] == 'Alex Ovechkin']"
   ]
  },
  {
   "cell_type": "code",
   "execution_count": null,
   "id": "a9a5fb11-263d-4e2b-b0e6-7e70a5ef8344",
   "metadata": {},
   "outputs": [],
   "source": [
    "Ovi.head(3)"
   ]
  },
  {
   "cell_type": "code",
   "execution_count": null,
   "id": "51e0117f-c4cb-4b22-ba64-53527b93ee61",
   "metadata": {},
   "outputs": [],
   "source": [
    "Ovi.event.value_counts()"
   ]
  },
  {
   "cell_type": "code",
   "execution_count": null,
   "id": "6e564f1f-48c1-4e4e-b157-8c412bfd300c",
   "metadata": {},
   "outputs": [],
   "source": [
    "Ovi_goals_szn = Ovi.groupby(['season'])['event'].value_counts().reset_index()"
   ]
  },
  {
   "cell_type": "code",
   "execution_count": null,
   "id": "b312e39e-9f63-40f1-affa-c5c11fc0cbef",
   "metadata": {
    "scrolled": true
   },
   "outputs": [],
   "source": [
    "Ovi_goals_szn"
   ]
  },
  {
   "cell_type": "code",
   "execution_count": null,
   "id": "caae8e90-254b-4b93-85aa-8853516da63a",
   "metadata": {},
   "outputs": [],
   "source": [
    "Ovi_goals_szn.plot(x = 'season', y = 'count', kind = 'line')\n",
    "plt.xlabel(\"Season\", fontsize=10)\n",
    "plt.ylabel(\"Goals Scored\", fontsize=10)\n",
    "plt.title(\"Ovechkin Goals Per Season 2007-2023\")\n",
    "plt.legend(\"\", frameon = False)\n",
    "#plt.savefig('Ovi Goals.png', bbox_inches='tight')\n",
    "plt.show();"
   ]
  },
  {
   "cell_type": "code",
   "execution_count": null,
   "id": "ba9a3139-93d0-4238-b24a-284d28cbd0bb",
   "metadata": {},
   "outputs": [],
   "source": [
    "Ovi_po = po_goals.loc[po_goals['shooterName'] == 'Alex Ovechkin']"
   ]
  },
  {
   "cell_type": "code",
   "execution_count": null,
   "id": "f919a276-e44c-4778-851d-3577cf114858",
   "metadata": {},
   "outputs": [],
   "source": [
    "Ovi_po.head(3)"
   ]
  },
  {
   "cell_type": "code",
   "execution_count": null,
   "id": "e3ea71a4-a99d-4dc4-967d-278ac1022696",
   "metadata": {},
   "outputs": [],
   "source": [
    "Ovi_po_goals = Ovi_po.groupby(['season'])['event'].value_counts().reset_index()"
   ]
  },
  {
   "cell_type": "code",
   "execution_count": null,
   "id": "8c3179af-ea65-459e-9f19-de9dd2244d28",
   "metadata": {
    "scrolled": true
   },
   "outputs": [],
   "source": [
    "Ovi_po_goals"
   ]
  },
  {
   "cell_type": "code",
   "execution_count": null,
   "id": "4be2a5e3-abef-4a95-9e7e-128be6f16682",
   "metadata": {},
   "outputs": [],
   "source": [
    "Ovi_po_goals.plot(x = 'season', y = 'count', kind = 'line')\n",
    "plt.xlabel(\"Season\", fontsize=10)\n",
    "plt.ylabel(\"Goals Scored\", fontsize=10)\n",
    "plt.title(\"Ovechkin Goals Per Stanley Cup Playoffs 2007-2021\")\n",
    "plt.legend(\"\", frameon = False)\n",
    "#plt.savefig('Ovi Playoff Goals.png', bbox_inches='tight')\n",
    "plt.show();"
   ]
  },
  {
   "cell_type": "code",
   "execution_count": null,
   "id": "54bcefd6-6e68-4feb-ad86-a1eccd489de1",
   "metadata": {},
   "outputs": [],
   "source": []
  },
  {
   "cell_type": "code",
   "execution_count": null,
   "id": "935cbe70-c8ee-4b67-80f7-2749541a59ea",
   "metadata": {},
   "outputs": [],
   "source": [
    "reg = reg_szn_goals[['season', 'teamCode', 'event']]\n",
    "reg.head()"
   ]
  },
  {
   "cell_type": "code",
   "execution_count": null,
   "id": "6847d6b2-33cc-442f-ad8c-175d06333fed",
   "metadata": {},
   "outputs": [],
   "source": [
    "t_s_g = reg.groupby(['season'])['teamCode'].value_counts().reset_index()"
   ]
  },
  {
   "cell_type": "code",
   "execution_count": null,
   "id": "12715864-312a-4a84-aad0-cbb0eb3ed82f",
   "metadata": {},
   "outputs": [],
   "source": [
    "avg_g_year = t_s_g.groupby(['teamCode'])['count'].mean().reset_index()"
   ]
  },
  {
   "cell_type": "code",
   "execution_count": null,
   "id": "289ee324-8fdd-429c-b906-5d613a98e6bd",
   "metadata": {},
   "outputs": [],
   "source": [
    "mean_team_season = t_s_g.groupby(['season', 'teamCode'])['count'].mean().reset_index()"
   ]
  },
  {
   "cell_type": "code",
   "execution_count": null,
   "id": "0ed32b0b-c0b9-49a9-b292-8f78cd94d252",
   "metadata": {},
   "outputs": [],
   "source": [
    "mean_team_season.head()"
   ]
  },
  {
   "cell_type": "code",
   "execution_count": null,
   "id": "988c0637-309c-42ee-b1ac-283351919a7f",
   "metadata": {},
   "outputs": [],
   "source": [
    "mean_team_season"
   ]
  },
  {
   "cell_type": "code",
   "execution_count": null,
   "id": "e56cb5cd-9a63-4959-a743-ad5a250b73d9",
   "metadata": {},
   "outputs": [],
   "source": [
    "mts = mean_team_season.sort_values(by = 'count', ascending = False)"
   ]
  },
  {
   "cell_type": "code",
   "execution_count": null,
   "id": "fc9c15f5-8420-4b05-87da-7c97644d850e",
   "metadata": {},
   "outputs": [],
   "source": [
    "mts.head(5)"
   ]
  },
  {
   "cell_type": "code",
   "execution_count": null,
   "id": "4795b8d0-966e-4f04-b948-9bbb400f0392",
   "metadata": {},
   "outputs": [],
   "source": []
  },
  {
   "cell_type": "code",
   "execution_count": null,
   "id": "a6c2ad3c-3ead-4a3a-bed7-d2e838cb6ef8",
   "metadata": {
    "scrolled": true
   },
   "outputs": [],
   "source": [
    "avg_g_year.sort_values(by = 'count', ascending = False)"
   ]
  },
  {
   "cell_type": "code",
   "execution_count": null,
   "id": "ffee280b-7464-4e82-a490-f629c1ec1f51",
   "metadata": {},
   "outputs": [],
   "source": []
  },
  {
   "cell_type": "code",
   "execution_count": null,
   "id": "09e7abae-386f-4c79-b9f7-5925745977b4",
   "metadata": {
    "scrolled": true
   },
   "outputs": [],
   "source": [
    "reg_szn_goals.groupby(['teamCode'])['event'].value_counts().reset_index()"
   ]
  },
  {
   "cell_type": "code",
   "execution_count": null,
   "id": "8a74052f-2899-47f3-8efe-1988bca055dd",
   "metadata": {},
   "outputs": [],
   "source": []
  },
  {
   "cell_type": "markdown",
   "id": "42eda7d8-4a40-4d95-b606-59f4075c4d53",
   "metadata": {},
   "source": [
    "Through here I am going to look through the different shot types to see which one was the most popular throughout the dataset."
   ]
  },
  {
   "cell_type": "code",
   "execution_count": null,
   "id": "9e6530aa-fdab-4142-96ee-ced618522abf",
   "metadata": {},
   "outputs": [],
   "source": [
    "st_count = reg_szn_goals.groupby(['season'])['shotType'].value_counts().reset_index()"
   ]
  },
  {
   "cell_type": "code",
   "execution_count": null,
   "id": "ea533b4e-9516-4e5a-9c07-727308d01b8f",
   "metadata": {},
   "outputs": [],
   "source": [
    "st_count.head()"
   ]
  },
  {
   "cell_type": "code",
   "execution_count": null,
   "id": "10621a96-3d96-4bd8-a982-2907bb98f3b2",
   "metadata": {},
   "outputs": [],
   "source": [
    "esst = reg_szn_goals[['event', 'season', 'shotType']]"
   ]
  },
  {
   "cell_type": "code",
   "execution_count": null,
   "id": "3df35cad-8416-4b42-99cf-afbeb43cac36",
   "metadata": {},
   "outputs": [],
   "source": [
    "type_cps = esst.groupby(['season'])['shotType'].value_counts().reset_index()"
   ]
  },
  {
   "cell_type": "code",
   "execution_count": null,
   "id": "80219989-dcde-4e6c-8d47-ce16a448fff5",
   "metadata": {},
   "outputs": [],
   "source": [
    "type_cps.tail(14)"
   ]
  },
  {
   "cell_type": "code",
   "execution_count": null,
   "id": "b8efa4c3-324e-4970-9e06-6206303625a1",
   "metadata": {},
   "outputs": [],
   "source": [
    "most_per_year = type_cps.groupby(['season'])['count'].max().reset_index()"
   ]
  },
  {
   "cell_type": "code",
   "execution_count": null,
   "id": "80d5f8bf-35b5-4784-9ec3-3b59f822b6b6",
   "metadata": {},
   "outputs": [],
   "source": [
    "most_per_year"
   ]
  },
  {
   "cell_type": "code",
   "execution_count": null,
   "id": "9f7e45a2-dc11-4a5e-9752-8cc5e90a176b",
   "metadata": {},
   "outputs": [],
   "source": [
    "count_type = pd.merge(most_per_year, type_cps, \n",
    "                               left_on = 'count', right_on = 'count', \n",
    "                               how = 'left')\n",
    "count_type.head(19)"
   ]
  },
  {
   "cell_type": "code",
   "execution_count": null,
   "id": "f2b4efe9-cbc7-4528-9be2-656c38037651",
   "metadata": {},
   "outputs": [],
   "source": [
    "count_type.plot(x = 'season_x', y = 'count', kind = 'line')\n",
    "plt.xlabel(\"Season\", fontsize=10)\n",
    "plt.ylabel(\"Shot Attempts\", fontsize=10)\n",
    "plt.title(\"Most Shot Attempts Each Year\")\n",
    "plt.legend(\"\", frameon = False)\n",
    "#plt.savefig('Most Shot Attempts.png', bbox_inches='tight')\n",
    "plt.show();"
   ]
  },
  {
   "cell_type": "code",
   "execution_count": null,
   "id": "cfd7e062-f4bc-4854-95de-580455fa990a",
   "metadata": {},
   "outputs": [],
   "source": []
  },
  {
   "cell_type": "code",
   "execution_count": null,
   "id": "d3aa657a-dbc1-4a8e-9fd2-704baa6ac7cc",
   "metadata": {},
   "outputs": [],
   "source": [
    "WRIST = st_count.loc[st_count['shotType'] == 'WRIST']"
   ]
  },
  {
   "cell_type": "code",
   "execution_count": null,
   "id": "6002280a-d320-4126-bd7b-2ee24d0825d8",
   "metadata": {},
   "outputs": [],
   "source": [
    "WRIST.plot(x = 'season', y = 'count', kind = 'line')\n",
    "plt.xlabel(\"Season\", fontsize=10)\n",
    "plt.ylabel(\"Shot Attempts\", fontsize=10)\n",
    "plt.title(\"Wrist Shot Attempts Each Year\")\n",
    "plt.legend(\"\", frameon = False)\n",
    "#plt.savefig('Wrist Shot Attempts.png', bbox_inches='tight')\n",
    "plt.show();"
   ]
  },
  {
   "cell_type": "code",
   "execution_count": null,
   "id": "dd273972-c9e9-4c5c-82c3-a16a0a4676f3",
   "metadata": {},
   "outputs": [],
   "source": []
  },
  {
   "cell_type": "code",
   "execution_count": null,
   "id": "96d2520c-989f-4a4f-93e3-a27b21bb5f70",
   "metadata": {},
   "outputs": [],
   "source": [
    "SLAP = st_count.loc[st_count['shotType'] == 'SLAP']"
   ]
  },
  {
   "cell_type": "code",
   "execution_count": null,
   "id": "d3ff9fd7-ca33-413f-bdc9-7f2a695550b3",
   "metadata": {},
   "outputs": [],
   "source": [
    "SLAP.plot(x = 'season', y = 'count', kind = 'line')\n",
    "plt.xlabel(\"Season\", fontsize=10)\n",
    "plt.ylabel(\"Shot Attempts\", fontsize=10)\n",
    "plt.title(\"Slap Shots Per Season 2007-2023\")\n",
    "plt.legend(\"\", frameon = False)\n",
    "#plt.savefig('Slap Shots Per Year.png', bbox_inches='tight')\n",
    "plt.show();"
   ]
  },
  {
   "cell_type": "code",
   "execution_count": null,
   "id": "57e71825-98c8-4acf-967a-7c9a3c9e66ab",
   "metadata": {},
   "outputs": [],
   "source": []
  },
  {
   "cell_type": "code",
   "execution_count": null,
   "id": "4e138b0e-ff1a-4be3-9cfc-99ad153be3d7",
   "metadata": {},
   "outputs": [],
   "source": [
    "WRAP = st_count.loc[st_count['shotType'] == 'WRAP']"
   ]
  },
  {
   "cell_type": "code",
   "execution_count": null,
   "id": "c259cebf-1956-4a2e-83d0-c11addb612c2",
   "metadata": {},
   "outputs": [],
   "source": [
    "WRAP.plot(x = 'season', y = 'count', kind = 'line')\n",
    "plt.xlabel(\"Season\", fontsize=10)\n",
    "plt.ylabel(\"Shot Attempts\", fontsize=10)\n",
    "plt.title(\"Wrap Around Attempts Per Season 2007-2023\")\n",
    "plt.legend(\"\", frameon = False)\n",
    "#plt.savefig('Wrap Around Attempts.png', bbox_inches='tight')\n",
    "plt.show();"
   ]
  },
  {
   "cell_type": "code",
   "execution_count": null,
   "id": "4542c47f-e0dc-4f99-8101-265f7f2bd55b",
   "metadata": {},
   "outputs": [],
   "source": []
  },
  {
   "cell_type": "code",
   "execution_count": null,
   "id": "b449428a-8cc1-488f-b2e3-1977c994e165",
   "metadata": {},
   "outputs": [],
   "source": [
    "SNAP = st_count.loc[st_count['shotType'] == 'SNAP']"
   ]
  },
  {
   "cell_type": "code",
   "execution_count": null,
   "id": "a006e200-7093-414c-a80b-84087c5eb6ce",
   "metadata": {},
   "outputs": [],
   "source": [
    "SNAP.plot(x = 'season', y = 'count', kind = 'line')\n",
    "plt.xlabel(\"Season\", fontsize=10)\n",
    "plt.ylabel(\"Shot Attempts\", fontsize=10)\n",
    "plt.title(\"Snap Shots Per Season 2007-2023\")\n",
    "plt.legend(\"\", frameon = False)\n",
    "#plt.savefig('Snap Shots Attempts.png', bbox_inches='tight')\n",
    "plt.show();"
   ]
  },
  {
   "cell_type": "code",
   "execution_count": null,
   "id": "75b32492-90eb-4b84-9e2e-a84722a60dc2",
   "metadata": {},
   "outputs": [],
   "source": []
  },
  {
   "cell_type": "code",
   "execution_count": null,
   "id": "75e5bc3b-85db-4f3b-a8f2-f7f5a9de26e0",
   "metadata": {},
   "outputs": [],
   "source": [
    "DEFL = st_count.loc[st_count['shotType'] == 'DEFL']"
   ]
  },
  {
   "cell_type": "code",
   "execution_count": null,
   "id": "1ee94431-1a4e-4b3d-8c6f-182bd2d89613",
   "metadata": {},
   "outputs": [],
   "source": [
    "DEFL.plot(x = 'season', y = 'count', kind = 'line')\n",
    "plt.xlabel(\"Season\", fontsize=10)\n",
    "plt.ylabel(\"Shots Deflected\", fontsize=10)\n",
    "plt.title(\"Deflected Shots Per Season 2007-2023\")\n",
    "plt.legend(\"\", frameon = False)\n",
    "#plt.savefig('Deflected Shots.png', bbox_inches='tight')\n",
    "plt.show();"
   ]
  },
  {
   "cell_type": "code",
   "execution_count": null,
   "id": "be15dd66-c2d2-446d-a150-33bb89761ad7",
   "metadata": {},
   "outputs": [],
   "source": []
  },
  {
   "cell_type": "code",
   "execution_count": null,
   "id": "c1bdc7ef-4bbb-412d-8953-bc17a070f867",
   "metadata": {},
   "outputs": [],
   "source": [
    "TIP = st_count.loc[st_count['shotType'] == 'TIP']"
   ]
  },
  {
   "cell_type": "code",
   "execution_count": null,
   "id": "936cc089-c960-41ac-8b7d-4f31ae2c331d",
   "metadata": {},
   "outputs": [],
   "source": [
    "TIP.plot(x = 'season', y = 'count', kind = 'line')\n",
    "plt.xlabel(\"Season\", fontsize=10)\n",
    "plt.ylabel(\"Shots Tipped\", fontsize=10)\n",
    "plt.title(\"Tipped Shots Per Season 2007-2023\")\n",
    "plt.legend(\"\", frameon = False)\n",
    "#plt.savefig('Tip Time.png', bbox_inches='tight')\n",
    "plt.show();"
   ]
  },
  {
   "cell_type": "code",
   "execution_count": null,
   "id": "28725442-3055-4461-a9e0-326fa00fcba1",
   "metadata": {},
   "outputs": [],
   "source": []
  },
  {
   "cell_type": "code",
   "execution_count": null,
   "id": "4933e238-249f-4fda-907b-4e7ab3465052",
   "metadata": {},
   "outputs": [],
   "source": [
    "BACK = st_count.loc[st_count['shotType'] == 'BACK']"
   ]
  },
  {
   "cell_type": "code",
   "execution_count": null,
   "id": "13ad5dca-38b9-4712-a54d-35aa200622d3",
   "metadata": {},
   "outputs": [],
   "source": [
    "BACK.plot(x = 'season', y = 'count', kind = 'line')\n",
    "plt.xlabel(\"Season\", fontsize=10)\n",
    "plt.ylabel(\"Backhand Shots\", fontsize=10)\n",
    "plt.title(\"Backhand Shots Per Season 2007-2023\")\n",
    "plt.legend(\"\", frameon = False)\n",
    "#plt.savefig('Backhand.png', bbox_inches='tight')\n",
    "plt.show();"
   ]
  },
  {
   "cell_type": "markdown",
   "id": "0ed40e1a-7431-4356-a546-3660e1211e65",
   "metadata": {},
   "source": [
    "Removing outlier years"
   ]
  },
  {
   "cell_type": "code",
   "execution_count": null,
   "id": "fcee154e-dc81-4555-8fb1-5935ec3128d2",
   "metadata": {},
   "outputs": [],
   "source": [
    "reg_szn_goals.head()"
   ]
  },
  {
   "cell_type": "code",
   "execution_count": null,
   "id": "702c8bec-1a2f-4084-b693-cfa05b5a6ba2",
   "metadata": {},
   "outputs": [],
   "source": [
    "drop1 = reg_szn_goals[reg_szn_goals['season'] == 2012].index"
   ]
  },
  {
   "cell_type": "code",
   "execution_count": null,
   "id": "97347d36-ad07-4711-bee1-e0236ea2b85f",
   "metadata": {},
   "outputs": [],
   "source": [
    "drop2 = reg_szn_goals[reg_szn_goals['season'] == 2019].index"
   ]
  },
  {
   "cell_type": "code",
   "execution_count": null,
   "id": "5487fbbe-1578-4ff6-8ed8-1e2a6011db54",
   "metadata": {},
   "outputs": [],
   "source": [
    "drop3 = reg_szn_goals[reg_szn_goals['season'] == 2020].index"
   ]
  },
  {
   "cell_type": "code",
   "execution_count": null,
   "id": "1aaa8356-9046-4154-b336-db0107da9f10",
   "metadata": {},
   "outputs": [],
   "source": [
    "no_lockout = reg_szn_goals.drop(drop1)"
   ]
  },
  {
   "cell_type": "code",
   "execution_count": null,
   "id": "55457e2c-d0cb-46f5-823f-a64e23395604",
   "metadata": {},
   "outputs": [],
   "source": [
    "no_covid = no_lockout.drop(drop2)"
   ]
  },
  {
   "cell_type": "code",
   "execution_count": null,
   "id": "9a371db3-c0e3-4651-80ca-bc9c501c19eb",
   "metadata": {},
   "outputs": [],
   "source": [
    "no_swings = no_covid.drop(drop3)"
   ]
  },
  {
   "cell_type": "code",
   "execution_count": null,
   "id": "d02155bb-7a6a-43fb-b213-e2ea18747b6e",
   "metadata": {},
   "outputs": [],
   "source": [
    "no_swings.head()"
   ]
  },
  {
   "cell_type": "code",
   "execution_count": null,
   "id": "f39fe0f3-44b1-4890-99fe-555a8bcfcfc1",
   "metadata": {},
   "outputs": [],
   "source": [
    "no_swings_gr = no_swings.groupby(['season'])['event'].value_counts().reset_index()"
   ]
  },
  {
   "cell_type": "code",
   "execution_count": null,
   "id": "570d2a88-3f17-4c0b-a2f0-9793ac0d95f6",
   "metadata": {},
   "outputs": [],
   "source": [
    "no_swings_gr"
   ]
  },
  {
   "cell_type": "code",
   "execution_count": null,
   "id": "83a05714-1e3e-4a03-8c00-2149358b912d",
   "metadata": {},
   "outputs": [],
   "source": [
    "no_swings_gr.plot(x = 'season', y = 'count', kind = 'line')\n",
    "# plt.annotate(\n",
    "#     'Lockout Season',\n",
    "#     xy=(2012,6600),\n",
    "#     xytext=(2014,6750),\n",
    "#     arrowprops=dict(facecolor='black', shrink=0.05),\n",
    "#     ha='center'\n",
    "# )\n",
    "# plt.annotate(\n",
    "#     'Covid-19 Season',\n",
    "#     xy=(2020,7950),\n",
    "#     xytext=(2021.5,7750),\n",
    "#     arrowprops=dict(facecolor='black', shrink=0.05),\n",
    "#     ha='center'\n",
    "# )\n",
    "plt.legend(\"\", frameon = False)\n",
    "plt.xlabel(\"Season\", fontsize=10)\n",
    "plt.ylabel(\"Goals Scored\", fontsize=10)\n",
    "plt.title(\"Goals Scored Without Variable Years\")\n",
    "#plt.savefig('Goals Scored Without Variable Years.png', bbox_inches='tight')\n",
    "plt.show();"
   ]
  },
  {
   "cell_type": "code",
   "execution_count": null,
   "id": "d5dd3a27-4ca1-4de6-a69c-e72ac8f3db7f",
   "metadata": {},
   "outputs": [],
   "source": [
    "drop1 = po_goals[po_goals['season'] == 2012].index"
   ]
  },
  {
   "cell_type": "code",
   "execution_count": null,
   "id": "887b5809-6a4e-4746-9eca-d4e98443891a",
   "metadata": {},
   "outputs": [],
   "source": [
    "drop2 = po_goals[po_goals['season'] == 2019].index"
   ]
  },
  {
   "cell_type": "code",
   "execution_count": null,
   "id": "6456ce32-3e41-4beb-88e4-e43ea4818d99",
   "metadata": {},
   "outputs": [],
   "source": [
    "drop3 = po_goals[po_goals['season'] == 2020].index"
   ]
  },
  {
   "cell_type": "code",
   "execution_count": null,
   "id": "255d59be-c78c-42a8-9a56-65b7e8d86d84",
   "metadata": {},
   "outputs": [],
   "source": [
    "no_lockout_po = po_goals.drop(drop1)"
   ]
  },
  {
   "cell_type": "code",
   "execution_count": null,
   "id": "de44549b-bd56-4fad-939f-7aa33d107703",
   "metadata": {},
   "outputs": [],
   "source": [
    "no_covid_po = no_lockout_po.drop(drop2)"
   ]
  },
  {
   "cell_type": "code",
   "execution_count": null,
   "id": "c62acbe4-3ded-4a31-b5de-0b550ac3cbca",
   "metadata": {},
   "outputs": [],
   "source": [
    "no_swings_po = no_covid_po.drop(drop3)"
   ]
  },
  {
   "cell_type": "code",
   "execution_count": null,
   "id": "f9de7d5e-6f6c-4d97-9942-a23d4f9289e0",
   "metadata": {},
   "outputs": [],
   "source": [
    "no_swings_po.head(3)"
   ]
  },
  {
   "cell_type": "code",
   "execution_count": null,
   "id": "13a682d4-a323-4b47-83a5-a6146a231928",
   "metadata": {},
   "outputs": [],
   "source": [
    "ns_po_gc = no_swings_po.groupby(['season'])['event'].value_counts().reset_index()"
   ]
  },
  {
   "cell_type": "code",
   "execution_count": null,
   "id": "b5b95187-746b-4c1d-b5c5-149633a64cfb",
   "metadata": {},
   "outputs": [],
   "source": [
    "ns_po_gc.plot(x = 'season', y = 'count', kind = 'line')\n",
    "plt.annotate(\n",
    "    '24 Team Playoff Format (2019)',\n",
    "    xy=(2019,510),\n",
    "    xytext=(2015,530),\n",
    "    arrowprops=dict(facecolor='black', shrink=0.05),\n",
    "    ha='center'\n",
    ")\n",
    "plt.xlabel(\"Season\", fontsize=10)\n",
    "plt.ylabel(\"Goal Count\", fontsize=10)\n",
    "plt.title(\"Stanley Cup Playoff Goals Scored Without Varirable Years\")\n",
    "plt.legend(\"\", frameon = False)\n",
    "#plt.savefig('ns_po_gc.png', bbox_inches='tight')\n",
    "plt.show();"
   ]
  },
  {
   "cell_type": "code",
   "execution_count": null,
   "id": "26a330f5-fcba-44ee-98b1-9780d725cb50",
   "metadata": {},
   "outputs": [],
   "source": []
  },
  {
   "cell_type": "code",
   "execution_count": null,
   "id": "63b4755f-5051-49e7-ae47-df9787ee573b",
   "metadata": {},
   "outputs": [],
   "source": [
    "no_swings.head()"
   ]
  },
  {
   "cell_type": "code",
   "execution_count": null,
   "id": "27db93ab-68ec-449b-bdfa-e38e5c4fab6f",
   "metadata": {},
   "outputs": [],
   "source": [
    "stc_ns = no_swings[['season', 'shotType', 'event']]"
   ]
  },
  {
   "cell_type": "code",
   "execution_count": null,
   "id": "0d57dde2-1d42-4bfc-ae07-cbc501fc6e81",
   "metadata": {},
   "outputs": [],
   "source": [
    "st_count_ns = stc_ns.groupby(['season'])['shotType'].value_counts().reset_index()"
   ]
  },
  {
   "cell_type": "code",
   "execution_count": null,
   "id": "d9ae0fe4-72e4-47d5-be86-b267f8caf083",
   "metadata": {},
   "outputs": [],
   "source": [
    "WRIST_ns = st_count_ns.loc[st_count_ns['shotType'] == 'WRIST']"
   ]
  },
  {
   "cell_type": "code",
   "execution_count": null,
   "id": "5b34d161-935d-4163-9e01-0a8fa1e783b8",
   "metadata": {},
   "outputs": [],
   "source": [
    "SLAP_ns = st_count_ns.loc[st_count_ns['shotType'] == 'SLAP']"
   ]
  },
  {
   "cell_type": "code",
   "execution_count": null,
   "id": "12902916-5596-478f-a00f-c8d8e9bf25f8",
   "metadata": {},
   "outputs": [],
   "source": [
    "BACK_ns = st_count_ns.loc[st_count_ns['shotType'] == 'BACK']"
   ]
  },
  {
   "cell_type": "code",
   "execution_count": null,
   "id": "dc65bd16-514f-450a-a16a-126c1144f28b",
   "metadata": {},
   "outputs": [],
   "source": [
    "TIP_ns = st_count_ns.loc[st_count_ns['shotType'] == 'TIP']"
   ]
  },
  {
   "cell_type": "code",
   "execution_count": null,
   "id": "f3b3fff0-7635-4dab-833d-3cecb4e807cd",
   "metadata": {},
   "outputs": [],
   "source": [
    "DEFL_ns = st_count_ns.loc[st_count_ns['shotType'] == 'DEFL']"
   ]
  },
  {
   "cell_type": "code",
   "execution_count": null,
   "id": "84921634-37bc-4763-9e24-ee4c1746728e",
   "metadata": {},
   "outputs": [],
   "source": [
    "WRIST_ns.plot(x = 'season', y = 'count', kind = 'line')\n",
    "# plt.annotate(\n",
    "#     'Lockout Season',\n",
    "#     xy=(2012,3175),\n",
    "#     xytext=(2013,2900),\n",
    "#     arrowprops=dict(facecolor='black', shrink=0.05),\n",
    "#     ha='center'\n",
    "# )\n",
    "# plt.annotate(\n",
    "#     'Covid-19 Season',\n",
    "#     xy=(2020,4000),\n",
    "#     xytext=(2020,3800),\n",
    "#     arrowprops=dict(facecolor='black', shrink=0.05),\n",
    "#     ha='center'\n",
    "# )\n",
    "plt.xlabel(\"Season\", fontsize=10)\n",
    "plt.ylabel(\"Wrist Shots\", fontsize=10)\n",
    "plt.title(\"Wrist Shot Goals Per Season 2007-2023\")\n",
    "plt.legend(\"\", frameon = False)\n",
    "#plt.savefig('WRIST_ns.png', bbox_inches='tight')\n",
    "plt.show();"
   ]
  },
  {
   "cell_type": "code",
   "execution_count": null,
   "id": "8b900401-d8d9-41e7-8983-0fcf3ab7eb3e",
   "metadata": {},
   "outputs": [],
   "source": [
    "SLAP_ns.plot(x = 'season', y = 'count', kind = 'line')\n",
    "# plt.annotate(\n",
    "#     'Lockout Season',\n",
    "#     xy=(2012,825),\n",
    "#     xytext=(2012,750),\n",
    "#     arrowprops=dict(facecolor='black', shrink=0.05),\n",
    "#     ha='center'\n",
    "# )\n",
    "# plt.annotate(\n",
    "#     'Covid-19 Season',\n",
    "#     xy=(2020,775),\n",
    "#     xytext=(2021,850),\n",
    "#     arrowprops=dict(facecolor='black', shrink=0.05),\n",
    "#     ha='center'\n",
    "# )\n",
    "plt.xlabel(\"Season\", fontsize=10)\n",
    "plt.ylabel(\"Slap Shots\", fontsize=10)\n",
    "plt.title(\"Slap Shot Goals Per Season 2007-2023\")\n",
    "plt.legend(\"\", frameon = False)\n",
    "#plt.savefig('SLAP_ns.png', bbox_inches='tight')\n",
    "plt.show();"
   ]
  },
  {
   "cell_type": "code",
   "execution_count": null,
   "id": "1051eafb-5720-4ff9-b73b-e350fc76a16a",
   "metadata": {},
   "outputs": [],
   "source": [
    "BACK_ns.plot(x = 'season', y = 'count', kind = 'line')\n",
    "plt.xlabel(\"Season\", fontsize=10)\n",
    "plt.ylabel(\"Backhand Shots\", fontsize=10)\n",
    "plt.title(\"Backhand Goals Per Season 2007-2023\")\n",
    "plt.legend(\"\", frameon = False)\n",
    "#plt.savefig('BACK_ns.png', bbox_inches='tight')\n",
    "plt.show();"
   ]
  },
  {
   "cell_type": "code",
   "execution_count": null,
   "id": "48f9b47c-091a-4494-bbcb-371990637ddc",
   "metadata": {},
   "outputs": [],
   "source": [
    "TIP_ns.plot(x = 'season', y = 'count', kind = 'line')\n",
    "# plt.annotate(\n",
    "#     'Lockout Season',\n",
    "#     xy=(2012,610),\n",
    "#     xytext=(2012,650),\n",
    "#     arrowprops=dict(facecolor='black', shrink=0.05),\n",
    "#     ha='center'\n",
    "# )\n",
    "# plt.annotate(\n",
    "#     'Covid-19 Season',\n",
    "#     xy=(2020,740),\n",
    "#     xytext=(2020,710),\n",
    "#     arrowprops=dict(facecolor='black', shrink=0.05),\n",
    "#     ha='center'\n",
    "# )\n",
    "plt.xlabel(\"Season\", fontsize=10)\n",
    "plt.ylabel(\"Tipped Shots\", fontsize=10)\n",
    "plt.title(\"Tipped Shot Goals Per Season 2007-2023\")\n",
    "plt.legend(\"\", frameon = False)\n",
    "#plt.savefig('TIP_ns.png', bbox_inches='tight')\n",
    "plt.show();"
   ]
  },
  {
   "cell_type": "code",
   "execution_count": null,
   "id": "50487e9a-ff81-40b0-b06a-06c84b2a31c4",
   "metadata": {},
   "outputs": [],
   "source": [
    "DEFL_ns.plot(x = 'season', y = 'count', kind = 'line')\n",
    "# plt.annotate(\n",
    "#     'Lockout Season',\n",
    "#     xy=(2012,220),\n",
    "#     xytext=(2012,200),\n",
    "#     arrowprops=dict(facecolor='black', shrink=0.05),\n",
    "#     ha='center'\n",
    "# )\n",
    "# plt.annotate(\n",
    "#     'Covid-19 Season',\n",
    "#     xy=(2020,255),\n",
    "#     xytext=(2019,235),\n",
    "#     arrowprops=dict(facecolor='black', shrink=0.05),\n",
    "#     ha='center'\n",
    "# )\n",
    "plt.xlabel(\"Season\", fontsize=10)\n",
    "plt.ylabel(\"Deflected Shots\", fontsize=10)\n",
    "plt.title(\"Deflected Shot Goals Per Season 2007-2023\")\n",
    "plt.legend(\"\", frameon = False)\n",
    "#plt.savefig('DEFL_ns.png', bbox_inches='tight')\n",
    "plt.show();"
   ]
  },
  {
   "cell_type": "code",
   "execution_count": null,
   "id": "dc460558-2d8e-4fad-855e-a3be91817ac8",
   "metadata": {},
   "outputs": [],
   "source": [
    "no_swings[['event', 'playerPositionThatDidEvent']]"
   ]
  },
  {
   "cell_type": "code",
   "execution_count": null,
   "id": "49f9dc66-c5a4-43f9-b9d1-31dc6db34752",
   "metadata": {},
   "outputs": [],
   "source": [
    "pos_gc_rs_ns = no_swings.groupby(['playerPositionThatDidEvent'])['event'].value_counts().reset_index()"
   ]
  },
  {
   "cell_type": "code",
   "execution_count": null,
   "id": "791977f1-5c72-4576-9fd1-e60e08a11790",
   "metadata": {},
   "outputs": [],
   "source": [
    "pos_gc_rs_ns = pos_gc_rs_ns.sort_values(by = 'count', ascending = False)"
   ]
  },
  {
   "cell_type": "code",
   "execution_count": null,
   "id": "2744a013-8fe6-4ba5-bbdf-6822d368f3f4",
   "metadata": {},
   "outputs": [],
   "source": [
    "pos_gc_rs_ns"
   ]
  },
  {
   "cell_type": "code",
   "execution_count": null,
   "id": "29a2913a-4dc1-43b7-90c7-5a42d10051df",
   "metadata": {},
   "outputs": [],
   "source": [
    "pos_gc_rs_ns.plot(x = 'playerPositionThatDidEvent', y = 'count', kind = 'bar')\n",
    "plt.xlabel(\"Player Position\", fontsize=10)\n",
    "plt.xticks(rotation=0)\n",
    "plt.ylabel(\"Goals Scored\", fontsize=10)\n",
    "plt.title(\"Positions With Most Goals Scored In Full NHL Seasons\")\n",
    "plt.legend(\"\", frameon = False)\n",
    "#plt.savefig('pos_gc_rs_ns.png', bbox_inches='tight')\n",
    "plt.show();"
   ]
  },
  {
   "cell_type": "code",
   "execution_count": null,
   "id": "a1c05561-9967-4583-9215-44f429c2373d",
   "metadata": {},
   "outputs": [],
   "source": []
  },
  {
   "cell_type": "code",
   "execution_count": null,
   "id": "b3f64c8a-f1b3-4de7-8788-04fec9216296",
   "metadata": {},
   "outputs": [],
   "source": [
    "rss = reg_szn_shots.shape[0]\n",
    "print(rss)"
   ]
  },
  {
   "cell_type": "code",
   "execution_count": null,
   "id": "bbfc1441-5ed5-46a5-b589-d78cca7d5da4",
   "metadata": {},
   "outputs": [],
   "source": [
    "rsg = reg_szn_goals.shape[0]\n",
    "print(rsg)"
   ]
  },
  {
   "cell_type": "code",
   "execution_count": null,
   "id": "54ce59d5-3e1b-47e2-85d2-95f7c05c7622",
   "metadata": {},
   "outputs": [],
   "source": [
    "ovr_gsp = (rsg/rss)*100"
   ]
  },
  {
   "cell_type": "code",
   "execution_count": null,
   "id": "39181f3d-9356-4b24-bb7f-2af2b563ba4c",
   "metadata": {},
   "outputs": [],
   "source": [
    "rss_07 = reg_szn_shots.loc[reg_szn_shots['season'] == 2007].shape[0]"
   ]
  },
  {
   "cell_type": "code",
   "execution_count": null,
   "id": "40826d93-9454-4fe0-8696-79bd05802c12",
   "metadata": {},
   "outputs": [],
   "source": [
    "rsg_07 = reg_szn_goals.loc[reg_szn_goals['season'] == 2007].shape[0]"
   ]
  },
  {
   "cell_type": "code",
   "execution_count": null,
   "id": "ffe71b4e-db79-4049-9c14-4d30b19940da",
   "metadata": {},
   "outputs": [],
   "source": [
    "gsp_07 = (rsg_07/rss_07)*100\n",
    "print(gsp_07)"
   ]
  },
  {
   "cell_type": "code",
   "execution_count": null,
   "id": "df9d65cd-d8c1-45bf-a4b4-04cfb0f8a01a",
   "metadata": {},
   "outputs": [],
   "source": [
    "rss_08 = reg_szn_shots.loc[reg_szn_shots['season'] == 2008].shape[0]"
   ]
  },
  {
   "cell_type": "code",
   "execution_count": null,
   "id": "7c85f42c-4b15-45e7-9308-53ab9be11e21",
   "metadata": {},
   "outputs": [],
   "source": [
    "rsg_08 = reg_szn_goals.loc[reg_szn_goals['season'] == 2008].shape[0]"
   ]
  },
  {
   "cell_type": "code",
   "execution_count": null,
   "id": "18ca0b56-4b50-4148-833c-193c115ca5bd",
   "metadata": {},
   "outputs": [],
   "source": [
    "gsp_08 = (rsg_08/rss_08)*100\n",
    "print(gsp_08)"
   ]
  },
  {
   "cell_type": "code",
   "execution_count": null,
   "id": "4abadb85-9988-43a5-8e6a-c5e75ec3e18f",
   "metadata": {},
   "outputs": [],
   "source": [
    "rss_09 = reg_szn_shots.loc[reg_szn_shots['season'] == 2009].shape[0]"
   ]
  },
  {
   "cell_type": "code",
   "execution_count": null,
   "id": "b38615ca-2790-438b-9c55-3c256d62475c",
   "metadata": {},
   "outputs": [],
   "source": [
    "rsg_09 = reg_szn_goals.loc[reg_szn_goals['season'] == 2009].shape[0]"
   ]
  },
  {
   "cell_type": "code",
   "execution_count": null,
   "id": "836bdfdf-2e8a-4e3d-a52b-4d3db809773a",
   "metadata": {},
   "outputs": [],
   "source": [
    "gsp_09 = (rsg_09/rss_09)*100\n",
    "print(gsp_09)"
   ]
  },
  {
   "cell_type": "code",
   "execution_count": null,
   "id": "1e3c7020-2b57-4ff3-b0f0-36176e3a6c23",
   "metadata": {},
   "outputs": [],
   "source": [
    "rss_10 = reg_szn_shots.loc[reg_szn_shots['season'] == 2010].shape[0]"
   ]
  },
  {
   "cell_type": "code",
   "execution_count": null,
   "id": "13b4a173-9066-460a-873f-c4f2025c6244",
   "metadata": {},
   "outputs": [],
   "source": [
    "rsg_10 = reg_szn_goals.loc[reg_szn_goals['season'] == 2010].shape[0]"
   ]
  },
  {
   "cell_type": "code",
   "execution_count": null,
   "id": "5d9ff96c-d6b1-4f70-b94f-362b55de551b",
   "metadata": {},
   "outputs": [],
   "source": [
    "gsp_10 = (rsg_10/rss_10)*100\n",
    "print(gsp_10)"
   ]
  },
  {
   "cell_type": "code",
   "execution_count": null,
   "id": "243c493b-59e1-4469-8b76-cfed1daa0938",
   "metadata": {},
   "outputs": [],
   "source": [
    "rss_11 = reg_szn_shots.loc[reg_szn_shots['season'] == 2011].shape[0]"
   ]
  },
  {
   "cell_type": "code",
   "execution_count": null,
   "id": "13c626f2-2094-4089-815f-0fafdc244b57",
   "metadata": {},
   "outputs": [],
   "source": [
    "rsg_11 = reg_szn_goals.loc[reg_szn_goals['season'] == 2011].shape[0]"
   ]
  },
  {
   "cell_type": "code",
   "execution_count": null,
   "id": "f2805198-1c5d-4738-a00a-d63e5d07cbd4",
   "metadata": {},
   "outputs": [],
   "source": [
    "gsp_11 = (rsg_11/rss_11)*100\n",
    "print(gsp_11)"
   ]
  },
  {
   "cell_type": "code",
   "execution_count": null,
   "id": "49f7358c-9d95-46af-bbc1-63e76ce3042f",
   "metadata": {},
   "outputs": [],
   "source": [
    "rss_12 = reg_szn_shots.loc[reg_szn_shots['season'] == 2012].shape[0]"
   ]
  },
  {
   "cell_type": "code",
   "execution_count": null,
   "id": "b0c0574b-7cbe-47ef-bed8-fce7195ce89c",
   "metadata": {},
   "outputs": [],
   "source": [
    "rsg_12 = reg_szn_goals.loc[reg_szn_goals['season'] == 2012].shape[0]"
   ]
  },
  {
   "cell_type": "code",
   "execution_count": null,
   "id": "6e887825-75c2-40b5-9bbb-ad21150a3913",
   "metadata": {},
   "outputs": [],
   "source": [
    "gsp_12 = (rsg_12/rss_12)*100\n",
    "print(gsp_12)"
   ]
  },
  {
   "cell_type": "code",
   "execution_count": null,
   "id": "d4779b6e-2a48-406f-82e0-1ba1e3e213ce",
   "metadata": {},
   "outputs": [],
   "source": [
    "rss_13 = reg_szn_shots.loc[reg_szn_shots['season'] == 2013].shape[0]"
   ]
  },
  {
   "cell_type": "code",
   "execution_count": null,
   "id": "f788c996-5201-4b8a-9530-90dad59c476a",
   "metadata": {},
   "outputs": [],
   "source": [
    "rsg_13 = reg_szn_goals.loc[reg_szn_goals['season'] == 2013].shape[0]"
   ]
  },
  {
   "cell_type": "code",
   "execution_count": null,
   "id": "94b1b26a-f59b-427c-bc06-2cd36dfcb1d9",
   "metadata": {},
   "outputs": [],
   "source": [
    "gsp_13 = (rsg_13/rss_13)*100\n",
    "print(gsp_13)"
   ]
  },
  {
   "cell_type": "code",
   "execution_count": null,
   "id": "80d84781-a636-44f0-a572-c4d34ea13531",
   "metadata": {},
   "outputs": [],
   "source": [
    "rss_14 = reg_szn_shots.loc[reg_szn_shots['season'] == 2014].shape[0]"
   ]
  },
  {
   "cell_type": "code",
   "execution_count": null,
   "id": "66643da5-3d19-4ba7-98c0-f20c6da708e1",
   "metadata": {},
   "outputs": [],
   "source": [
    "rsg_14 = reg_szn_goals.loc[reg_szn_goals['season'] == 2014].shape[0]"
   ]
  },
  {
   "cell_type": "code",
   "execution_count": null,
   "id": "7e356e58-1837-410b-aabc-2cc273ef618d",
   "metadata": {},
   "outputs": [],
   "source": [
    "gsp_14 = (rsg_14/rss_14)*100\n",
    "print(gsp_14)"
   ]
  },
  {
   "cell_type": "code",
   "execution_count": null,
   "id": "0930352d-627d-47d6-be15-fdaf158d5dd7",
   "metadata": {},
   "outputs": [],
   "source": [
    "rss_15 = reg_szn_shots.loc[reg_szn_shots['season'] == 2015].shape[0]"
   ]
  },
  {
   "cell_type": "code",
   "execution_count": null,
   "id": "b6d8cbd1-3420-4c55-8737-01c804007bff",
   "metadata": {},
   "outputs": [],
   "source": [
    "rsg_15 = reg_szn_goals.loc[reg_szn_goals['season'] == 2015].shape[0]"
   ]
  },
  {
   "cell_type": "code",
   "execution_count": null,
   "id": "83d8fef9-8857-4123-9704-f6ec0ef7504e",
   "metadata": {},
   "outputs": [],
   "source": [
    "gsp_15 = (rsg_15/rss_15)*100\n",
    "print(gsp_15)"
   ]
  },
  {
   "cell_type": "code",
   "execution_count": null,
   "id": "25ce9794-b831-4962-a67c-cf147ac95160",
   "metadata": {},
   "outputs": [],
   "source": [
    "rss_16 = reg_szn_shots.loc[reg_szn_shots['season'] == 2016].shape[0]"
   ]
  },
  {
   "cell_type": "code",
   "execution_count": null,
   "id": "97f6d952-b7c4-440a-9c72-e39e280dc539",
   "metadata": {},
   "outputs": [],
   "source": [
    "rsg_16 = reg_szn_goals.loc[reg_szn_goals['season'] == 2016].shape[0]"
   ]
  },
  {
   "cell_type": "code",
   "execution_count": null,
   "id": "70cea97e-66d0-4e1d-9a5b-5f2cf48cae3f",
   "metadata": {},
   "outputs": [],
   "source": [
    "gsp_16 = (rsg_16/rss_16)*100\n",
    "print(gsp_16)"
   ]
  },
  {
   "cell_type": "code",
   "execution_count": null,
   "id": "c60846ce-b524-461c-9add-632f35ac8883",
   "metadata": {},
   "outputs": [],
   "source": [
    "rss_17 = reg_szn_shots.loc[reg_szn_shots['season'] == 2017].shape[0]"
   ]
  },
  {
   "cell_type": "code",
   "execution_count": null,
   "id": "0f861f7c-f6ad-4bf8-8184-edc2ee3aac66",
   "metadata": {},
   "outputs": [],
   "source": [
    "rsg_17 = reg_szn_goals.loc[reg_szn_goals['season'] == 2017].shape[0]"
   ]
  },
  {
   "cell_type": "code",
   "execution_count": null,
   "id": "56c94e01-9fec-49e0-ae3c-bd3391db7be9",
   "metadata": {},
   "outputs": [],
   "source": [
    "gsp_17 = (rsg_17/rss_17)*100\n",
    "print(gsp_17)"
   ]
  },
  {
   "cell_type": "code",
   "execution_count": null,
   "id": "64c59aef-9aae-4008-b1f6-190204473213",
   "metadata": {},
   "outputs": [],
   "source": [
    "rss_18 = reg_szn_shots.loc[reg_szn_shots['season'] == 2018].shape[0]"
   ]
  },
  {
   "cell_type": "code",
   "execution_count": null,
   "id": "a1bdc843-0035-4b56-881b-16f9a7991ff1",
   "metadata": {},
   "outputs": [],
   "source": [
    "rsg_18 = reg_szn_goals.loc[reg_szn_goals['season'] == 2018].shape[0]"
   ]
  },
  {
   "cell_type": "code",
   "execution_count": null,
   "id": "22942048-2814-45ee-9fe7-91118d07ae3c",
   "metadata": {},
   "outputs": [],
   "source": [
    "gsp_18 = (rsg_18/rss_18)*100\n",
    "print(gsp_18)"
   ]
  },
  {
   "cell_type": "code",
   "execution_count": null,
   "id": "1e827b4b-4ba0-489e-b62d-4fad47119c47",
   "metadata": {},
   "outputs": [],
   "source": [
    "rss_19 = reg_szn_shots.loc[reg_szn_shots['season'] == 2019].shape[0]"
   ]
  },
  {
   "cell_type": "code",
   "execution_count": null,
   "id": "d83fc486-b7e1-411f-8686-b796f692ac02",
   "metadata": {},
   "outputs": [],
   "source": [
    "rsg_19 = reg_szn_goals.loc[reg_szn_goals['season'] == 2019].shape[0]"
   ]
  },
  {
   "cell_type": "code",
   "execution_count": null,
   "id": "52c943db-a1fa-4644-8a3c-eb9e42a6e075",
   "metadata": {},
   "outputs": [],
   "source": [
    "gsp_19 = (rsg_19/rss_19)*100\n",
    "print(gsp_19)"
   ]
  },
  {
   "cell_type": "code",
   "execution_count": null,
   "id": "a2d91158-7ace-4d0e-b6f9-51ecb12e4bfc",
   "metadata": {},
   "outputs": [],
   "source": [
    "rss_20 = reg_szn_shots.loc[reg_szn_shots['season'] == 2020].shape[0]"
   ]
  },
  {
   "cell_type": "code",
   "execution_count": null,
   "id": "127208ee-7af8-402f-a161-150099d96e30",
   "metadata": {},
   "outputs": [],
   "source": [
    "rsg_20 = reg_szn_goals.loc[reg_szn_goals['season'] == 2020].shape[0]"
   ]
  },
  {
   "cell_type": "code",
   "execution_count": null,
   "id": "a427c0ec-7948-4094-9b6e-3207d55ed4d1",
   "metadata": {},
   "outputs": [],
   "source": [
    "gsp_20 = (rsg_20/rss_20)*100\n",
    "print(gsp_20)"
   ]
  },
  {
   "cell_type": "code",
   "execution_count": null,
   "id": "ba54b63e-dc58-40b6-9353-def3d04a28ee",
   "metadata": {},
   "outputs": [],
   "source": [
    "rss_21 = reg_szn_shots.loc[reg_szn_shots['season'] == 2021].shape[0]"
   ]
  },
  {
   "cell_type": "code",
   "execution_count": null,
   "id": "bb17fc71-57e2-4b38-a50a-d572663c327b",
   "metadata": {},
   "outputs": [],
   "source": [
    "rsg_21 = reg_szn_goals.loc[reg_szn_goals['season'] == 2021].shape[0]"
   ]
  },
  {
   "cell_type": "code",
   "execution_count": null,
   "id": "820c63c5-5ff3-47ad-90c0-e20d1fe64fed",
   "metadata": {},
   "outputs": [],
   "source": [
    "gsp_21 = (rsg_21/rss_21)*100\n",
    "print(gsp_21)"
   ]
  },
  {
   "cell_type": "code",
   "execution_count": null,
   "id": "10917b30-c600-446c-a525-6b1c3ccb16ff",
   "metadata": {},
   "outputs": [],
   "source": [
    "rss_22 = reg_szn_shots.loc[reg_szn_shots['season'] == 2022].shape[0]"
   ]
  },
  {
   "cell_type": "code",
   "execution_count": null,
   "id": "d712deb6-615a-471a-a901-15292466b454",
   "metadata": {},
   "outputs": [],
   "source": [
    "rsg_22 = reg_szn_goals.loc[reg_szn_goals['season'] == 2022].shape[0]"
   ]
  },
  {
   "cell_type": "code",
   "execution_count": null,
   "id": "f31abb46-867c-4c40-9ea3-3aa3763862c6",
   "metadata": {},
   "outputs": [],
   "source": [
    "gsp_22 = (rsg_22/rss_22)*100\n",
    "print(gsp_22)"
   ]
  },
  {
   "cell_type": "code",
   "execution_count": null,
   "id": "38bc8a91-424b-47ae-b556-fa84b778e634",
   "metadata": {},
   "outputs": [],
   "source": [
    "rss_23 = reg_szn_shots.loc[reg_szn_shots['season'] == 2023].shape[0]"
   ]
  },
  {
   "cell_type": "code",
   "execution_count": null,
   "id": "2835c934-ad78-421c-8594-93112889bfe9",
   "metadata": {},
   "outputs": [],
   "source": [
    "rsg_23 = reg_szn_goals.loc[reg_szn_goals['season'] == 2023].shape[0]"
   ]
  },
  {
   "cell_type": "code",
   "execution_count": null,
   "id": "3368ea6f-1464-4363-bbf4-3f8d48d628c1",
   "metadata": {},
   "outputs": [],
   "source": [
    "gsp_23 = (rsg_23/rss_23)*100\n",
    "print(gsp_23)"
   ]
  },
  {
   "cell_type": "code",
   "execution_count": null,
   "id": "183be75a-dc87-4e85-8fd0-7b77c634ee8f",
   "metadata": {},
   "outputs": [],
   "source": [
    "Years = [\"'07\", \"'08\", \"'09\", \"'10\", \"'11\", \"'12\", \"'13\", \"'14\", \"'15\", \"'16\", \"'17\", \"'18\", \"'19\", \"'20\", \"'21\", \"'22\", \"'23\"]\n",
    "Shooting_PCT = [10.27, 10.37, 10.02, 9.84, 9.79, 10.06, 9.74, 9.75, 9.84, 9.89, 10.07, 10.45, 10.47, 10.69, 10.88, 11.17, 11.31]\n",
    "\n",
    "plt.bar(Years, Shooting_PCT, color='cornflowerblue')\n",
    "plt.xlabel('Seasons')\n",
    "plt.ylabel('Shooting Percentage')\n",
    "plt.title(\"\")\n",
    "#plt.savefig('Save PCT.png', bbox_inches='tight')\n",
    "plt.show()"
   ]
  },
  {
   "cell_type": "code",
   "execution_count": null,
   "id": "856a768b-4d89-4c97-bc80-5a126edffe53",
   "metadata": {},
   "outputs": [],
   "source": []
  },
  {
   "cell_type": "code",
   "execution_count": null,
   "id": "7749e32b-e151-4290-be98-64315ba7c000",
   "metadata": {},
   "outputs": [],
   "source": []
  },
  {
   "cell_type": "code",
   "execution_count": null,
   "id": "e1d750bd-5467-4153-b007-a397bb7711da",
   "metadata": {},
   "outputs": [],
   "source": []
  },
  {
   "cell_type": "code",
   "execution_count": null,
   "id": "1e8e175c-1f31-4410-a982-19bf8743d05c",
   "metadata": {},
   "outputs": [],
   "source": []
  },
  {
   "cell_type": "code",
   "execution_count": null,
   "id": "025004c9-5ef9-404a-a1ae-d2af88f8c61d",
   "metadata": {},
   "outputs": [],
   "source": []
  },
  {
   "cell_type": "code",
   "execution_count": null,
   "id": "d5f3f3b7-1730-47e7-b1b1-dab85509367e",
   "metadata": {},
   "outputs": [],
   "source": []
  },
  {
   "cell_type": "code",
   "execution_count": null,
   "id": "de9169e5-d04b-4871-b7c3-4fae1de89f15",
   "metadata": {},
   "outputs": [],
   "source": []
  }
 ],
 "metadata": {
  "kernelspec": {
   "display_name": "Python 3 (ipykernel)",
   "language": "python",
   "name": "python3"
  },
  "language_info": {
   "codemirror_mode": {
    "name": "ipython",
    "version": 3
   },
   "file_extension": ".py",
   "mimetype": "text/x-python",
   "name": "python",
   "nbconvert_exporter": "python",
   "pygments_lexer": "ipython3",
   "version": "3.12.4"
  }
 },
 "nbformat": 4,
 "nbformat_minor": 5
}
